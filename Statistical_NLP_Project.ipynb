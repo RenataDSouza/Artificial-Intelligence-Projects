{
 "cells": [
  {
   "cell_type": "code",
   "execution_count": null,
   "metadata": {
    "colab": {
     "base_uri": "https://localhost:8080/"
    },
    "id": "GJb7lX5EsTlG",
    "outputId": "116fc057-096a-4409-cdb6-ec7ebab3b84c"
   },
   "outputs": [
    {
     "name": "stdout",
     "output_type": "stream",
     "text": [
      "Mounted at /content/gdrive\n"
     ]
    }
   ],
   "source": [
    "from google.colab import drive\n",
    "drive.mount('/content/gdrive')\n",
    "# drive.flush_and_unmount()"
   ]
  },
  {
   "cell_type": "code",
   "execution_count": null,
   "metadata": {
    "id": "z2b6v0S4KaxU"
   },
   "outputs": [],
   "source": [
    "root_path = 'gdrive/My Drive/Project/'"
   ]
  },
  {
   "cell_type": "markdown",
   "metadata": {
    "id": "5mbclAvyLVsp"
   },
   "source": [
    "# **Part One**\n",
    "\n",
    "> **Project Objective:** To create a classifier that predicts multiple features of the author of a given text."
   ]
  },
  {
   "cell_type": "markdown",
   "metadata": {
    "id": "TBSnXDbiOXpi"
   },
   "source": [
    "### 1. Importing and analyzing the data set."
   ]
  },
  {
   "cell_type": "code",
   "execution_count": 589,
   "metadata": {
    "colab": {
     "base_uri": "https://localhost:8080/"
    },
    "id": "5z7vt5pjOP0M",
    "outputId": "b67a5726-dc08-4d44-a38b-1e0d866aa77a"
   },
   "outputs": [
    {
     "name": "stdout",
     "output_type": "stream",
     "text": [
      "[nltk_data] Downloading package stopwords to /root/nltk_data...\n",
      "[nltk_data]   Package stopwords is already up-to-date!\n",
      "[nltk_data] Downloading package punkt to /root/nltk_data...\n",
      "[nltk_data]   Package punkt is already up-to-date!\n"
     ]
    }
   ],
   "source": [
    "# Import required libraries\n",
    "\n",
    "import pandas as pd\n",
    "import copy\n",
    "import seaborn as sns   \n",
    "import matplotlib.pyplot as plt\n",
    "import re\n",
    "import nltk\n",
    "nltk.download('stopwords')\n",
    "nltk.download('punkt')\n",
    "from nltk.corpus import stopwords \n",
    "from nltk.tokenize import word_tokenize\n",
    "from sklearn.model_selection import train_test_split\n",
    "from sklearn.feature_extraction.text import CountVectorizer\n",
    "from sklearn.preprocessing import MultiLabelBinarizer\n",
    "from sklearn.multiclass import OneVsRestClassifier\n",
    "from sklearn.linear_model import LogisticRegression\n",
    "from sklearn.linear_model import SGDClassifier\n",
    "from sklearn.metrics import accuracy_score\n",
    "from sklearn.metrics import f1_score\n",
    "from sklearn.metrics import precision_score\n",
    "from sklearn.metrics import recall_score\n",
    "from sklearn.metrics import classification_report\n",
    "from sklearn.model_selection import GridSearchCV\n",
    "\n",
    "import warnings\n",
    "warnings.filterwarnings(\"ignore\")\n",
    "sns.set(color_codes=True)\n",
    "%matplotlib inline"
   ]
  },
  {
   "cell_type": "code",
   "execution_count": 590,
   "metadata": {
    "colab": {
     "base_uri": "https://localhost:8080/"
    },
    "id": "S1xkharZLN3N",
    "outputId": "ec3c5f1d-2f08-4f33-efb4-1000f9b2fe06"
   },
   "outputs": [
    {
     "data": {
      "text/plain": [
       "(681284, 7)"
      ]
     },
     "execution_count": 590,
     "metadata": {
      "tags": []
     },
     "output_type": "execute_result"
    }
   ],
   "source": [
    "blog_text1 = pd.read_csv('/content/gdrive/MyDrive/Project/blogtext.csv')\n",
    "blog_text1.shape"
   ]
  },
  {
   "cell_type": "code",
   "execution_count": 591,
   "metadata": {
    "colab": {
     "base_uri": "https://localhost:8080/",
     "height": 206
    },
    "id": "CeCXwf9vW_Ce",
    "outputId": "767147a9-0a14-441c-f85a-c7170e154c30"
   },
   "outputs": [
    {
     "data": {
      "text/html": [
       "<div>\n",
       "<style scoped>\n",
       "    .dataframe tbody tr th:only-of-type {\n",
       "        vertical-align: middle;\n",
       "    }\n",
       "\n",
       "    .dataframe tbody tr th {\n",
       "        vertical-align: top;\n",
       "    }\n",
       "\n",
       "    .dataframe thead th {\n",
       "        text-align: right;\n",
       "    }\n",
       "</style>\n",
       "<table border=\"1\" class=\"dataframe\">\n",
       "  <thead>\n",
       "    <tr style=\"text-align: right;\">\n",
       "      <th></th>\n",
       "      <th>id</th>\n",
       "      <th>gender</th>\n",
       "      <th>age</th>\n",
       "      <th>topic</th>\n",
       "      <th>sign</th>\n",
       "      <th>date</th>\n",
       "      <th>text</th>\n",
       "    </tr>\n",
       "  </thead>\n",
       "  <tbody>\n",
       "    <tr>\n",
       "      <th>681279</th>\n",
       "      <td>1713845</td>\n",
       "      <td>male</td>\n",
       "      <td>23</td>\n",
       "      <td>Student</td>\n",
       "      <td>Taurus</td>\n",
       "      <td>01,July,2004</td>\n",
       "      <td>Dear Susan,  I could write some really ...</td>\n",
       "    </tr>\n",
       "    <tr>\n",
       "      <th>681280</th>\n",
       "      <td>1713845</td>\n",
       "      <td>male</td>\n",
       "      <td>23</td>\n",
       "      <td>Student</td>\n",
       "      <td>Taurus</td>\n",
       "      <td>01,July,2004</td>\n",
       "      <td>Dear Susan,  'I have the second yeast i...</td>\n",
       "    </tr>\n",
       "    <tr>\n",
       "      <th>681281</th>\n",
       "      <td>1713845</td>\n",
       "      <td>male</td>\n",
       "      <td>23</td>\n",
       "      <td>Student</td>\n",
       "      <td>Taurus</td>\n",
       "      <td>01,July,2004</td>\n",
       "      <td>Dear Susan,  Your 'boyfriend' is fuckin...</td>\n",
       "    </tr>\n",
       "    <tr>\n",
       "      <th>681282</th>\n",
       "      <td>1713845</td>\n",
       "      <td>male</td>\n",
       "      <td>23</td>\n",
       "      <td>Student</td>\n",
       "      <td>Taurus</td>\n",
       "      <td>01,July,2004</td>\n",
       "      <td>Dear Susan:    Just to clarify, I am as...</td>\n",
       "    </tr>\n",
       "    <tr>\n",
       "      <th>681283</th>\n",
       "      <td>1713845</td>\n",
       "      <td>male</td>\n",
       "      <td>23</td>\n",
       "      <td>Student</td>\n",
       "      <td>Taurus</td>\n",
       "      <td>01,July,2004</td>\n",
       "      <td>Hey everybody...and Susan,  You might a...</td>\n",
       "    </tr>\n",
       "  </tbody>\n",
       "</table>\n",
       "</div>"
      ],
      "text/plain": [
       "             id  ...                                               text\n",
       "681279  1713845  ...         Dear Susan,  I could write some really ...\n",
       "681280  1713845  ...         Dear Susan,  'I have the second yeast i...\n",
       "681281  1713845  ...         Dear Susan,  Your 'boyfriend' is fuckin...\n",
       "681282  1713845  ...         Dear Susan:    Just to clarify, I am as...\n",
       "681283  1713845  ...         Hey everybody...and Susan,  You might a...\n",
       "\n",
       "[5 rows x 7 columns]"
      ]
     },
     "execution_count": 591,
     "metadata": {
      "tags": []
     },
     "output_type": "execute_result"
    }
   ],
   "source": [
    "blog_text1.tail()"
   ]
  },
  {
   "cell_type": "code",
   "execution_count": 592,
   "metadata": {
    "colab": {
     "base_uri": "https://localhost:8080/"
    },
    "id": "tjdOje-FI2P6",
    "outputId": "a9664429-60ea-4361-b05d-90fb4c72fca5"
   },
   "outputs": [
    {
     "data": {
      "text/plain": [
       "4686"
      ]
     },
     "execution_count": 592,
     "metadata": {
      "tags": []
     },
     "output_type": "execute_result"
    }
   ],
   "source": [
    "blog_text1.duplicated().sum()"
   ]
  },
  {
   "cell_type": "code",
   "execution_count": 593,
   "metadata": {
    "colab": {
     "base_uri": "https://localhost:8080/"
    },
    "id": "iNTVdiy6JD_8",
    "outputId": "76347536-04c6-44d1-905c-1ae01c6d5f8f"
   },
   "outputs": [
    {
     "data": {
      "text/plain": [
       "(676598, 7)"
      ]
     },
     "execution_count": 593,
     "metadata": {
      "tags": []
     },
     "output_type": "execute_result"
    }
   ],
   "source": [
    "# removing all the duplicate rows from the data\n",
    "blog_text1 = blog_text1[blog_text1.duplicated(keep='first') == False]\n",
    "blog_text1.shape"
   ]
  },
  {
   "cell_type": "code",
   "execution_count": 594,
   "metadata": {
    "id": "fm7sWhPB-2yp"
   },
   "outputs": [],
   "source": [
    "#Taking as sample of 5000 since the session is crashing later\n",
    "blog_text = blog_text1[0:5000].copy()"
   ]
  },
  {
   "cell_type": "code",
   "execution_count": 595,
   "metadata": {
    "colab": {
     "base_uri": "https://localhost:8080/",
     "height": 206
    },
    "id": "OCn_YWKy_CC0",
    "outputId": "350ae886-9c8e-4a4a-a0d6-9fe056d1d705"
   },
   "outputs": [
    {
     "data": {
      "text/html": [
       "<div>\n",
       "<style scoped>\n",
       "    .dataframe tbody tr th:only-of-type {\n",
       "        vertical-align: middle;\n",
       "    }\n",
       "\n",
       "    .dataframe tbody tr th {\n",
       "        vertical-align: top;\n",
       "    }\n",
       "\n",
       "    .dataframe thead th {\n",
       "        text-align: right;\n",
       "    }\n",
       "</style>\n",
       "<table border=\"1\" class=\"dataframe\">\n",
       "  <thead>\n",
       "    <tr style=\"text-align: right;\">\n",
       "      <th></th>\n",
       "      <th>id</th>\n",
       "      <th>gender</th>\n",
       "      <th>age</th>\n",
       "      <th>topic</th>\n",
       "      <th>sign</th>\n",
       "      <th>date</th>\n",
       "      <th>text</th>\n",
       "    </tr>\n",
       "  </thead>\n",
       "  <tbody>\n",
       "    <tr>\n",
       "      <th>5009</th>\n",
       "      <td>1103575</td>\n",
       "      <td>female</td>\n",
       "      <td>17</td>\n",
       "      <td>indUnk</td>\n",
       "      <td>Scorpio</td>\n",
       "      <td>23,August,2003</td>\n",
       "      <td>Yesterday was a very very long day... a...</td>\n",
       "    </tr>\n",
       "    <tr>\n",
       "      <th>5010</th>\n",
       "      <td>1103575</td>\n",
       "      <td>female</td>\n",
       "      <td>17</td>\n",
       "      <td>indUnk</td>\n",
       "      <td>Scorpio</td>\n",
       "      <td>22,August,2003</td>\n",
       "      <td>From the Pratt Institute of Art book I ...</td>\n",
       "    </tr>\n",
       "    <tr>\n",
       "      <th>5011</th>\n",
       "      <td>1103575</td>\n",
       "      <td>female</td>\n",
       "      <td>17</td>\n",
       "      <td>indUnk</td>\n",
       "      <td>Scorpio</td>\n",
       "      <td>21,August,2003</td>\n",
       "      <td>ugh  I had forgotten,   You don 't know...</td>\n",
       "    </tr>\n",
       "    <tr>\n",
       "      <th>5012</th>\n",
       "      <td>1103575</td>\n",
       "      <td>female</td>\n",
       "      <td>17</td>\n",
       "      <td>indUnk</td>\n",
       "      <td>Scorpio</td>\n",
       "      <td>21,August,2003</td>\n",
       "      <td>Disorder      Rating        urlLin...</td>\n",
       "    </tr>\n",
       "    <tr>\n",
       "      <th>5013</th>\n",
       "      <td>1103575</td>\n",
       "      <td>female</td>\n",
       "      <td>17</td>\n",
       "      <td>indUnk</td>\n",
       "      <td>Scorpio</td>\n",
       "      <td>21,August,2003</td>\n",
       "      <td>'so long sweet summer' {I think... it m...</td>\n",
       "    </tr>\n",
       "  </tbody>\n",
       "</table>\n",
       "</div>"
      ],
      "text/plain": [
       "           id  ...                                               text\n",
       "5009  1103575  ...         Yesterday was a very very long day... a...\n",
       "5010  1103575  ...         From the Pratt Institute of Art book I ...\n",
       "5011  1103575  ...         ugh  I had forgotten,   You don 't know...\n",
       "5012  1103575  ...              Disorder      Rating        urlLin...\n",
       "5013  1103575  ...         'so long sweet summer' {I think... it m...\n",
       "\n",
       "[5 rows x 7 columns]"
      ]
     },
     "execution_count": 595,
     "metadata": {
      "tags": []
     },
     "output_type": "execute_result"
    }
   ],
   "source": [
    "blog_text.tail()"
   ]
  },
  {
   "cell_type": "code",
   "execution_count": 596,
   "metadata": {
    "colab": {
     "base_uri": "https://localhost:8080/"
    },
    "id": "_IgDlIjVeR7q",
    "outputId": "582ed47c-2628-4379-94b9-6e0c0455de40"
   },
   "outputs": [
    {
     "data": {
      "text/plain": [
       "id         int64\n",
       "gender    object\n",
       "age        int64\n",
       "topic     object\n",
       "sign      object\n",
       "date      object\n",
       "text      object\n",
       "dtype: object"
      ]
     },
     "execution_count": 596,
     "metadata": {
      "tags": []
     },
     "output_type": "execute_result"
    }
   ],
   "source": [
    "blog_text.dtypes"
   ]
  },
  {
   "cell_type": "code",
   "execution_count": 597,
   "metadata": {
    "colab": {
     "base_uri": "https://localhost:8080/"
    },
    "id": "wGZiewyGXRCK",
    "outputId": "3befb169-a090-4d91-e19e-0130af8f1f7c"
   },
   "outputs": [
    {
     "data": {
      "text/plain": [
       "(5000, 7)"
      ]
     },
     "execution_count": 597,
     "metadata": {
      "tags": []
     },
     "output_type": "execute_result"
    }
   ],
   "source": [
    "blog_text.shape"
   ]
  },
  {
   "cell_type": "code",
   "execution_count": 598,
   "metadata": {
    "colab": {
     "base_uri": "https://localhost:8080/"
    },
    "id": "v6NoRJIcam4m",
    "outputId": "7a4ba3da-999b-47d8-8719-c00c64ce3899"
   },
   "outputs": [
    {
     "name": "stdout",
     "output_type": "stream",
     "text": [
      "<class 'pandas.core.frame.DataFrame'>\n",
      "Int64Index: 5000 entries, 0 to 5013\n",
      "Data columns (total 7 columns):\n",
      " #   Column  Non-Null Count  Dtype \n",
      "---  ------  --------------  ----- \n",
      " 0   id      5000 non-null   int64 \n",
      " 1   gender  5000 non-null   object\n",
      " 2   age     5000 non-null   int64 \n",
      " 3   topic   5000 non-null   object\n",
      " 4   sign    5000 non-null   object\n",
      " 5   date    5000 non-null   object\n",
      " 6   text    5000 non-null   object\n",
      "dtypes: int64(2), object(5)\n",
      "memory usage: 312.5+ KB\n"
     ]
    }
   ],
   "source": [
    "blog_text.info()"
   ]
  },
  {
   "cell_type": "code",
   "execution_count": 599,
   "metadata": {
    "id": "vbC8cgUEgkP4"
   },
   "outputs": [],
   "source": [
    "blog_text.drop(['id','date'],axis= 1,inplace = True)"
   ]
  },
  {
   "cell_type": "code",
   "execution_count": 600,
   "metadata": {
    "colab": {
     "base_uri": "https://localhost:8080/",
     "height": 206
    },
    "id": "AW0lKLP9hb2e",
    "outputId": "1dd998f3-1f44-41c9-ed31-56332c79c5e2"
   },
   "outputs": [
    {
     "data": {
      "text/html": [
       "<div>\n",
       "<style scoped>\n",
       "    .dataframe tbody tr th:only-of-type {\n",
       "        vertical-align: middle;\n",
       "    }\n",
       "\n",
       "    .dataframe tbody tr th {\n",
       "        vertical-align: top;\n",
       "    }\n",
       "\n",
       "    .dataframe thead th {\n",
       "        text-align: right;\n",
       "    }\n",
       "</style>\n",
       "<table border=\"1\" class=\"dataframe\">\n",
       "  <thead>\n",
       "    <tr style=\"text-align: right;\">\n",
       "      <th></th>\n",
       "      <th>gender</th>\n",
       "      <th>age</th>\n",
       "      <th>topic</th>\n",
       "      <th>sign</th>\n",
       "      <th>text</th>\n",
       "    </tr>\n",
       "  </thead>\n",
       "  <tbody>\n",
       "    <tr>\n",
       "      <th>0</th>\n",
       "      <td>male</td>\n",
       "      <td>15</td>\n",
       "      <td>Student</td>\n",
       "      <td>Leo</td>\n",
       "      <td>Info has been found (+/- 100 pages,...</td>\n",
       "    </tr>\n",
       "    <tr>\n",
       "      <th>1</th>\n",
       "      <td>male</td>\n",
       "      <td>15</td>\n",
       "      <td>Student</td>\n",
       "      <td>Leo</td>\n",
       "      <td>These are the team members:   Drewe...</td>\n",
       "    </tr>\n",
       "    <tr>\n",
       "      <th>2</th>\n",
       "      <td>male</td>\n",
       "      <td>15</td>\n",
       "      <td>Student</td>\n",
       "      <td>Leo</td>\n",
       "      <td>In het kader van kernfusie op aarde...</td>\n",
       "    </tr>\n",
       "    <tr>\n",
       "      <th>3</th>\n",
       "      <td>male</td>\n",
       "      <td>15</td>\n",
       "      <td>Student</td>\n",
       "      <td>Leo</td>\n",
       "      <td>testing!!!  testing!!!</td>\n",
       "    </tr>\n",
       "    <tr>\n",
       "      <th>4</th>\n",
       "      <td>male</td>\n",
       "      <td>33</td>\n",
       "      <td>InvestmentBanking</td>\n",
       "      <td>Aquarius</td>\n",
       "      <td>Thanks to Yahoo!'s Toolbar I can ...</td>\n",
       "    </tr>\n",
       "  </tbody>\n",
       "</table>\n",
       "</div>"
      ],
      "text/plain": [
       "  gender  age  ...      sign                                               text\n",
       "0   male   15  ...       Leo             Info has been found (+/- 100 pages,...\n",
       "1   male   15  ...       Leo             These are the team members:   Drewe...\n",
       "2   male   15  ...       Leo             In het kader van kernfusie op aarde...\n",
       "3   male   15  ...       Leo                   testing!!!  testing!!!          \n",
       "4   male   33  ...  Aquarius               Thanks to Yahoo!'s Toolbar I can ...\n",
       "\n",
       "[5 rows x 5 columns]"
      ]
     },
     "execution_count": 600,
     "metadata": {
      "tags": []
     },
     "output_type": "execute_result"
    }
   ],
   "source": [
    "blog_text.head()"
   ]
  },
  {
   "cell_type": "code",
   "execution_count": 601,
   "metadata": {
    "colab": {
     "base_uri": "https://localhost:8080/",
     "height": 300
    },
    "id": "wZUVPjgJa7IA",
    "outputId": "d982da27-cddb-4a70-a008-beed6035ad0f"
   },
   "outputs": [
    {
     "data": {
      "text/html": [
       "<div>\n",
       "<style scoped>\n",
       "    .dataframe tbody tr th:only-of-type {\n",
       "        vertical-align: middle;\n",
       "    }\n",
       "\n",
       "    .dataframe tbody tr th {\n",
       "        vertical-align: top;\n",
       "    }\n",
       "\n",
       "    .dataframe thead th {\n",
       "        text-align: right;\n",
       "    }\n",
       "</style>\n",
       "<table border=\"1\" class=\"dataframe\">\n",
       "  <thead>\n",
       "    <tr style=\"text-align: right;\">\n",
       "      <th></th>\n",
       "      <th>age</th>\n",
       "    </tr>\n",
       "  </thead>\n",
       "  <tbody>\n",
       "    <tr>\n",
       "      <th>count</th>\n",
       "      <td>5000.000000</td>\n",
       "    </tr>\n",
       "    <tr>\n",
       "      <th>mean</th>\n",
       "      <td>29.516400</td>\n",
       "    </tr>\n",
       "    <tr>\n",
       "      <th>std</th>\n",
       "      <td>7.777855</td>\n",
       "    </tr>\n",
       "    <tr>\n",
       "      <th>min</th>\n",
       "      <td>14.000000</td>\n",
       "    </tr>\n",
       "    <tr>\n",
       "      <th>25%</th>\n",
       "      <td>24.000000</td>\n",
       "    </tr>\n",
       "    <tr>\n",
       "      <th>50%</th>\n",
       "      <td>35.000000</td>\n",
       "    </tr>\n",
       "    <tr>\n",
       "      <th>75%</th>\n",
       "      <td>35.000000</td>\n",
       "    </tr>\n",
       "    <tr>\n",
       "      <th>max</th>\n",
       "      <td>46.000000</td>\n",
       "    </tr>\n",
       "  </tbody>\n",
       "</table>\n",
       "</div>"
      ],
      "text/plain": [
       "               age\n",
       "count  5000.000000\n",
       "mean     29.516400\n",
       "std       7.777855\n",
       "min      14.000000\n",
       "25%      24.000000\n",
       "50%      35.000000\n",
       "75%      35.000000\n",
       "max      46.000000"
      ]
     },
     "execution_count": 601,
     "metadata": {
      "tags": []
     },
     "output_type": "execute_result"
    }
   ],
   "source": [
    "blog_text.describe()"
   ]
  },
  {
   "cell_type": "code",
   "execution_count": 602,
   "metadata": {
    "colab": {
     "base_uri": "https://localhost:8080/"
    },
    "id": "LDrnqLY0b_NI",
    "outputId": "e931ce3e-e494-486b-afab-b056ab80eb4b"
   },
   "outputs": [
    {
     "data": {
      "text/plain": [
       "gender    0\n",
       "age       0\n",
       "topic     0\n",
       "sign      0\n",
       "text      0\n",
       "dtype: int64"
      ]
     },
     "execution_count": 602,
     "metadata": {
      "tags": []
     },
     "output_type": "execute_result"
    }
   ],
   "source": [
    "blog_text.isna().sum()"
   ]
  },
  {
   "cell_type": "code",
   "execution_count": 603,
   "metadata": {
    "colab": {
     "base_uri": "https://localhost:8080/",
     "height": 339
    },
    "id": "TOTaEWqlppoR",
    "outputId": "0cdbccff-401d-4385-9ef6-49cc25795530"
   },
   "outputs": [
    {
     "data": {
      "image/png": "[encoded data removed]",
      "text/plain": [
       "<Figure size 720x360 with 1 Axes>"
      ]
     },
     "metadata": {
      "needs_background": "light",
      "tags": []
     },
     "output_type": "display_data"
    }
   ],
   "source": [
    "plt.figure(figsize= (10,5))\n",
    "sns.countplot(x = 'age', data = blog_text)\n",
    "plt.show()"
   ]
  },
  {
   "cell_type": "code",
   "execution_count": 604,
   "metadata": {
    "colab": {
     "base_uri": "https://localhost:8080/",
     "height": 285
    },
    "id": "Wz8iTIaUqNDg",
    "outputId": "94c45318-4409-4952-9b54-f9ad1a1aeafb"
   },
   "outputs": [
    {
     "data": {
      "image/png": "[encoded data removed]",
      "text/plain": [
       "<Figure size 432x288 with 1 Axes>"
      ]
     },
     "metadata": {
      "needs_background": "light",
      "tags": []
     },
     "output_type": "display_data"
    }
   ],
   "source": [
    "sns.countplot(x = 'gender', data = blog_text)\n",
    "plt.show()"
   ]
  },
  {
   "cell_type": "code",
   "execution_count": 605,
   "metadata": {
    "colab": {
     "base_uri": "https://localhost:8080/",
     "height": 324
    },
    "id": "-WxUfctBNQJB",
    "outputId": "eaaea35e-c918-466f-81a3-56f9aa83b6ed"
   },
   "outputs": [
    {
     "data": {
      "image/png": "[encoded data removed]",
      "text/plain": [
       "<Figure size 432x288 with 1 Axes>"
      ]
     },
     "metadata": {
      "needs_background": "light",
      "tags": []
     },
     "output_type": "display_data"
    }
   ],
   "source": [
    "sns.countplot(x = 'sign', data = blog_text)\n",
    "plt.xticks(rotation=45)\n",
    "plt.show()"
   ]
  },
  {
   "cell_type": "code",
   "execution_count": 606,
   "metadata": {
    "colab": {
     "base_uri": "https://localhost:8080/",
     "height": 303
    },
    "id": "HXtgEI0wNU_P",
    "outputId": "6fd688da-4e4b-41ec-8fdc-ff4f7553aac1"
   },
   "outputs": [
    {
     "data": {
      "text/plain": [
       "<matplotlib.axes._subplots.AxesSubplot at 0x7fc97649d810>"
      ]
     },
     "execution_count": 606,
     "metadata": {
      "tags": []
     },
     "output_type": "execute_result"
    },
    {
     "data": {
      "image/png": "[encoded data removed]",
      "text/plain": [
       "<Figure size 432x288 with 1 Axes>"
      ]
     },
     "metadata": {
      "needs_background": "light",
      "tags": []
     },
     "output_type": "display_data"
    }
   ],
   "source": [
    "sns.boxplot(x = 'gender', y = 'age', data=blog_text)"
   ]
  },
  {
   "cell_type": "code",
   "execution_count": 607,
   "metadata": {
    "colab": {
     "base_uri": "https://localhost:8080/"
    },
    "id": "LiTiBKu3OaZ6",
    "outputId": "46efde83-1536-458e-cd1b-1162366e4c42"
   },
   "outputs": [
    {
     "data": {
      "text/plain": [
       "age\n",
       "(13, 17]     916\n",
       "(17, 27]     939\n",
       "(27, 47]    3145\n",
       "Name: gender, dtype: int64"
      ]
     },
     "execution_count": 607,
     "metadata": {
      "tags": []
     },
     "output_type": "execute_result"
    }
   ],
   "source": [
    "age_groups = pd.cut(blog_text['age'], bins=[13, 17, 27, 47])\n",
    "blog_text.groupby(age_groups)['gender'].count()"
   ]
  },
  {
   "cell_type": "code",
   "execution_count": 608,
   "metadata": {
    "colab": {
     "base_uri": "https://localhost:8080/",
     "height": 175
    },
    "id": "xJ8yn6EsTb1e",
    "outputId": "e1f23774-26be-4a7e-893e-4a31d133a8ee"
   },
   "outputs": [
    {
     "data": {
      "text/html": [
       "<div>\n",
       "<style scoped>\n",
       "    .dataframe tbody tr th:only-of-type {\n",
       "        vertical-align: middle;\n",
       "    }\n",
       "\n",
       "    .dataframe tbody tr th {\n",
       "        vertical-align: top;\n",
       "    }\n",
       "\n",
       "    .dataframe thead th {\n",
       "        text-align: right;\n",
       "    }\n",
       "</style>\n",
       "<table border=\"1\" class=\"dataframe\">\n",
       "  <thead>\n",
       "    <tr style=\"text-align: right;\">\n",
       "      <th>gender</th>\n",
       "      <th>female</th>\n",
       "      <th>male</th>\n",
       "    </tr>\n",
       "    <tr>\n",
       "      <th>age</th>\n",
       "      <th></th>\n",
       "      <th></th>\n",
       "    </tr>\n",
       "  </thead>\n",
       "  <tbody>\n",
       "    <tr>\n",
       "      <th>(13, 17]</th>\n",
       "      <td>549</td>\n",
       "      <td>367</td>\n",
       "    </tr>\n",
       "    <tr>\n",
       "      <th>(17, 27]</th>\n",
       "      <td>485</td>\n",
       "      <td>454</td>\n",
       "    </tr>\n",
       "    <tr>\n",
       "      <th>(27, 47]</th>\n",
       "      <td>680</td>\n",
       "      <td>2465</td>\n",
       "    </tr>\n",
       "  </tbody>\n",
       "</table>\n",
       "</div>"
      ],
      "text/plain": [
       "gender    female  male\n",
       "age                   \n",
       "(13, 17]     549   367\n",
       "(17, 27]     485   454\n",
       "(27, 47]     680  2465"
      ]
     },
     "execution_count": 608,
     "metadata": {
      "tags": []
     },
     "output_type": "execute_result"
    }
   ],
   "source": [
    "pd.crosstab(age_groups, blog_text['gender'])"
   ]
  },
  {
   "cell_type": "code",
   "execution_count": 609,
   "metadata": {
    "colab": {
     "base_uri": "https://localhost:8080/",
     "height": 459
    },
    "id": "dhfeUPH_T1So",
    "outputId": "4d0b23fe-5bfb-48b2-b962-aba595bd67dd"
   },
   "outputs": [
    {
     "data": {
      "image/png": "[encoded data removed]",
      "text/plain": [
       "<Figure size 720x360 with 1 Axes>"
      ]
     },
     "metadata": {
      "needs_background": "light",
      "tags": []
     },
     "output_type": "display_data"
    }
   ],
   "source": [
    "plt.figure(figsize= (10,5))\n",
    "sns.countplot(x = 'topic', data = blog_text)\n",
    "plt.xticks(rotation=90)\n",
    "plt.show()"
   ]
  },
  {
   "cell_type": "code",
   "execution_count": 610,
   "metadata": {
    "colab": {
     "base_uri": "https://localhost:8080/",
     "height": 87
    },
    "id": "fj7pGRgvT6lU",
    "outputId": "07062883-dd94-4589-8b46-80e6e244d33e"
   },
   "outputs": [
    {
     "data": {
      "application/vnd.google.colaboratory.intrinsic+json": {
       "type": "string"
      },
      "text/plain": [
       "\"              urlLink    Dennis Frentsos and Erika Shay, a 'once engaged' couple from New York. Dennis is a 27-year-old mortgage broker from West Nyack while Erika is a 25-year-old wedding planner from Piermont. According to CBS, Dennis broke off the engagement after Erika went tandem skydiving naked with her instructor. No word on whether any peanut butter or chocolate was involved.  This was actually my favourite team to win. Sadly, they are eliminted cause of Dennis' nice guy attitude. Erika is so bloody stupid to lose herself a guy like this!         \""
      ]
     },
     "execution_count": 610,
     "metadata": {
      "tags": []
     },
     "output_type": "execute_result"
    }
   ],
   "source": [
    "blog_text['text'][954]"
   ]
  },
  {
   "cell_type": "code",
   "execution_count": 611,
   "metadata": {
    "colab": {
     "base_uri": "https://localhost:8080/",
     "height": 139
    },
    "id": "1y-huNZKgeEP",
    "outputId": "dac95726-6983-4533-94e0-753f271f3ce4"
   },
   "outputs": [
    {
     "data": {
      "application/vnd.google.colaboratory.intrinsic+json": {
       "type": "string"
      },
      "text/plain": [
       "\"             Koreans have an interesting saying when referring to guys like me: 기러기아빠 ( urlLink gi-reo-gi  a-ppa, wild goose dad).  Whenever I told Koreans that I was here and my wife and kids are in Vancouver they would call me this, and now I know why.  My boss explained it to me quite well (although he called the bird a  urlLink seagull , as many Koreans do).  It goes like this: a goose flies very high in the sky (so does a vulture, but I guess that's not as poetic, nor as flattering) and has very good eyesight.  Therefore, it can see things waaaay in the distance--which is good, because that's where a 기러기아빠's family is...across the ocean.  It is used for Koreans who go abroad to work, as many do in the Middle East on the many Korean-lead construction projects there, for the many families that have the wife and kids in a foreign place (especially Canada, especially Vancouver...there are so many there) and the dad stays in Seoul, and for guys like me who come to work but whose wife likes Vancouver soooo much she can't bear to live in Seoul and put the children through such torture as is living here.  It's just another part of Korea where things that don't make a lot of sense at first seem to be clearer once you get the whole story.   urlLink     The majestic, beautiful Canada goose.          \""
      ]
     },
     "execution_count": 611,
     "metadata": {
      "tags": []
     },
     "output_type": "execute_result"
    }
   ],
   "source": [
    "blog_text['text'][44]"
   ]
  },
  {
   "cell_type": "markdown",
   "metadata": {
    "id": "BFvHzAcJdKDU"
   },
   "source": [
    "### 2. Pre-processing the data\n",
    "\n",
    "> *   Data cleansing by removing unwanted characters, spaces, stop words etc. Converting text to lowercase.\n",
    "*   Target/label merger and transformation\n",
    "*   Train and test split\n",
    "*   Vectorisation, etc.\n",
    "\n",
    "\n",
    "\n",
    "\n",
    "\n"
   ]
  },
  {
   "cell_type": "code",
   "execution_count": 612,
   "metadata": {
    "id": "tp_DfjbTcu5Y"
   },
   "outputs": [],
   "source": [
    "pattern = \"[^\\w\\s]+\"\n",
    "blog_text.text = blog_text.text.apply(lambda s : re.sub(pattern,\" \",s))\n",
    "pattern = \"[^A-Za-z0-9]+\"\n",
    "blog_text.text = blog_text.text.apply(lambda s : re.sub(pattern,\" \",s))"
   ]
  },
  {
   "cell_type": "code",
   "execution_count": 613,
   "metadata": {
    "id": "9q_5n-UXkyjA"
   },
   "outputs": [],
   "source": [
    "# replace more than 1 space with 1 space\n",
    "blog_text['text']= blog_text['text'].str.replace(r\"\\s\\s+\",' ') \n",
    "# delete beginning and trailing spaces\n",
    "blog_text['text']= blog_text['text'].str.strip()"
   ]
  },
  {
   "cell_type": "code",
   "execution_count": 614,
   "metadata": {
    "colab": {
     "base_uri": "https://localhost:8080/"
    },
    "id": "YQGOD7cy1mme",
    "outputId": "6625683b-5923-402c-cd91-a9503edf4a55"
   },
   "outputs": [
    {
     "data": {
      "text/plain": [
       "array({\"that'll\", 'through', 'further', 'do', 'here', 'above', 'll', 'were', 'am', 'when', 'she', 'but', 'hers', 'no', \"shan't\", 'a', 'now', \"couldn't\", 'doing', \"she's\", 'our', 'you', 'until', 'in', 'some', \"won't\", \"doesn't\", \"needn't\", 'only', 'own', 've', 'it', 'hadn', 'her', 'don', 'same', 'and', \"mightn't\", 'wasn', 'under', 'y', 'does', \"you'll\", \"wasn't\", 'their', 'itself', 'of', 'this', 'very', 'before', 'will', 'those', 'nor', \"isn't\", \"you're\", 'so', 're', 'any', 'too', \"wouldn't\", 's', 'weren', \"weren't\", 'mustn', 'whom', 'be', 'as', 'once', 'where', 'couldn', 'after', 'its', 'he', 'over', \"haven't\", 'there', 'isn', 'yourself', 'or', 'your', 'should', \"didn't\", 'again', 'we', 'his', 'all', 'below', 'while', 'wouldn', 'myself', 'these', 'doesn', 'hasn', 'been', 'then', 'not', 'didn', 'being', 'how', \"mustn't\", 'me', 'if', \"hasn't\", 'because', 'shan', \"you've\", 'which', \"it's\", 'they', 'them', 'most', 'yourselves', 'd', 'ourselves', \"should've\", 'each', \"you'd\", 'is', 'had', 'has', 'was', 'with', \"shouldn't\", 'him', 'other', 'from', 'ours', 'are', 'haven', 'to', 'have', 'aren', 'that', 'theirs', 'did', 'himself', 'up', \"don't\", 'just', 'mightn', 'having', 'both', 'on', 'who', 'than', 'an', 'ain', 'o', 'why', 'yours', 'themselves', 'down', 'i', \"hadn't\", 'against', 'shouldn', 'off', 'for', 'into', 'the', 'herself', 'few', 'can', 't', 'my', 'won', 'such', 'about', 'by', 'm', 'what', 'ma', 'more', 'needn', \"aren't\", 'between', 'during', 'at', 'out'},\n",
       "      dtype=object)"
      ]
     },
     "execution_count": 614,
     "metadata": {
      "tags": []
     },
     "output_type": "execute_result"
    }
   ],
   "source": [
    "# extracting the stopwords from nltk library\n",
    "stopwords = set(stopwords.words('english'))\n",
    "# displaying the stopwords\n",
    "np.array(stopwords)"
   ]
  },
  {
   "cell_type": "code",
   "execution_count": 615,
   "metadata": {
    "colab": {
     "base_uri": "https://localhost:8080/"
    },
    "id": "GaKhf1hi2XEw",
    "outputId": "c46761ca-a802-4e88-e8c5-2456bfe0301a"
   },
   "outputs": [
    {
     "data": {
      "text/plain": [
       "179"
      ]
     },
     "execution_count": 615,
     "metadata": {
      "tags": []
     },
     "output_type": "execute_result"
    }
   ],
   "source": [
    "len(stopwords)"
   ]
  },
  {
   "cell_type": "code",
   "execution_count": 616,
   "metadata": {
    "id": "pRSIJf8a2ZWF"
   },
   "outputs": [],
   "source": [
    "blog_text.text = blog_text.text.apply(lambda t: ' '.join([word.lower() for word in t.split() if word.lower() not in stopwords]))"
   ]
  },
  {
   "cell_type": "code",
   "execution_count": 617,
   "metadata": {
    "colab": {
     "base_uri": "https://localhost:8080/",
     "height": 70
    },
    "id": "svBVvyx53N3y",
    "outputId": "8157c1eb-adf3-451c-cdc9-36cce916bcf3"
   },
   "outputs": [
    {
     "data": {
      "application/vnd.google.colaboratory.intrinsic+json": {
       "type": "string"
      },
      "text/plain": [
       "'urllink dennis frentsos erika shay engaged couple new york dennis 27 year old mortgage broker west nyack erika 25 year old wedding planner piermont according cbs dennis broke engagement erika went tandem skydiving naked instructor word whether peanut butter chocolate involved actually favourite team win sadly eliminted cause dennis nice guy attitude erika bloody stupid lose guy like'"
      ]
     },
     "execution_count": 617,
     "metadata": {
      "tags": []
     },
     "output_type": "execute_result"
    }
   ],
   "source": [
    "blog_text['text'][954]"
   ]
  },
  {
   "cell_type": "code",
   "execution_count": 618,
   "metadata": {
    "colab": {
     "base_uri": "https://localhost:8080/",
     "height": 122
    },
    "id": "ljbpbGvi3N0W",
    "outputId": "54abe462-2a9e-4bdc-f6eb-ffceb50d3444"
   },
   "outputs": [
    {
     "data": {
      "application/vnd.google.colaboratory.intrinsic+json": {
       "type": "string"
      },
      "text/plain": [
       "'koreans interesting saying referring guys like urllink gi reo gi ppa wild goose dad whenever told koreans wife kids vancouver would call know boss explained quite well although called bird urllink seagull many koreans goes like goose flies high sky vulture guess poetic flattering good eyesight therefore see things waaaay distance good family across ocean used koreans go abroad work many middle east many korean lead construction projects many families wife kids foreign place especially canada especially vancouver many dad stays seoul guys like come work whose wife likes vancouver soooo much bear live seoul put children torture living another part korea things make lot sense first seem clearer get whole story urllink majestic beautiful canada goose'"
      ]
     },
     "execution_count": 618,
     "metadata": {
      "tags": []
     },
     "output_type": "execute_result"
    }
   ],
   "source": [
    "blog_text['text'][44]"
   ]
  },
  {
   "cell_type": "code",
   "execution_count": 619,
   "metadata": {
    "id": "BxHzFunI3Nym"
   },
   "outputs": [],
   "source": [
    "blog_text['text'] = blog_text['text'].str.lower()\n",
    "blog_text['text'] = blog_text['text'].str.strip()"
   ]
  },
  {
   "cell_type": "code",
   "execution_count": 620,
   "metadata": {
    "colab": {
     "base_uri": "https://localhost:8080/"
    },
    "id": "_NtZ9bFR3Ns6",
    "outputId": "63bf2aef-a8b4-46c2-e6e0-fe2f5c6e7d53"
   },
   "outputs": [
    {
     "data": {
      "text/plain": [
       "gender    0\n",
       "age       0\n",
       "topic     0\n",
       "sign      0\n",
       "text      0\n",
       "dtype: int64"
      ]
     },
     "execution_count": 620,
     "metadata": {
      "tags": []
     },
     "output_type": "execute_result"
    }
   ],
   "source": [
    "# Before combining check for any null values in the dataframe. Though we had dropped nan earlier.\n",
    "blog_text[blog_text.isnull() == True].count()"
   ]
  },
  {
   "cell_type": "code",
   "execution_count": 621,
   "metadata": {
    "id": "H3sGR2Cv3Ndi"
   },
   "outputs": [],
   "source": [
    "blog_text['age'] = blog_text['age'].astype(str)"
   ]
  },
  {
   "cell_type": "code",
   "execution_count": 622,
   "metadata": {
    "id": "QSaqzgFK5VMO"
   },
   "outputs": [],
   "source": [
    "blog_text['labels'] = blog_text.apply(lambda col : [col['gender'],col['age'],col['topic'],col['sign']], axis=1)"
   ]
  },
  {
   "cell_type": "code",
   "execution_count": 623,
   "metadata": {
    "colab": {
     "base_uri": "https://localhost:8080/",
     "height": 206
    },
    "id": "SaXHgYBF5VJt",
    "outputId": "bc130503-47c7-4a55-a0ad-86cf4ca1d9d7"
   },
   "outputs": [
    {
     "data": {
      "text/html": [
       "<div>\n",
       "<style scoped>\n",
       "    .dataframe tbody tr th:only-of-type {\n",
       "        vertical-align: middle;\n",
       "    }\n",
       "\n",
       "    .dataframe tbody tr th {\n",
       "        vertical-align: top;\n",
       "    }\n",
       "\n",
       "    .dataframe thead th {\n",
       "        text-align: right;\n",
       "    }\n",
       "</style>\n",
       "<table border=\"1\" class=\"dataframe\">\n",
       "  <thead>\n",
       "    <tr style=\"text-align: right;\">\n",
       "      <th></th>\n",
       "      <th>gender</th>\n",
       "      <th>age</th>\n",
       "      <th>topic</th>\n",
       "      <th>sign</th>\n",
       "      <th>text</th>\n",
       "      <th>labels</th>\n",
       "    </tr>\n",
       "  </thead>\n",
       "  <tbody>\n",
       "    <tr>\n",
       "      <th>0</th>\n",
       "      <td>male</td>\n",
       "      <td>15</td>\n",
       "      <td>Student</td>\n",
       "      <td>Leo</td>\n",
       "      <td>info found 100 pages 4 5 mb pdf files wait unt...</td>\n",
       "      <td>[male, 15, Student, Leo]</td>\n",
       "    </tr>\n",
       "    <tr>\n",
       "      <th>1</th>\n",
       "      <td>male</td>\n",
       "      <td>15</td>\n",
       "      <td>Student</td>\n",
       "      <td>Leo</td>\n",
       "      <td>team members drewes van der laag urllink mail ...</td>\n",
       "      <td>[male, 15, Student, Leo]</td>\n",
       "    </tr>\n",
       "    <tr>\n",
       "      <th>2</th>\n",
       "      <td>male</td>\n",
       "      <td>15</td>\n",
       "      <td>Student</td>\n",
       "      <td>Leo</td>\n",
       "      <td>het kader van kernfusie op aarde maak je eigen...</td>\n",
       "      <td>[male, 15, Student, Leo]</td>\n",
       "    </tr>\n",
       "    <tr>\n",
       "      <th>3</th>\n",
       "      <td>male</td>\n",
       "      <td>15</td>\n",
       "      <td>Student</td>\n",
       "      <td>Leo</td>\n",
       "      <td>testing testing</td>\n",
       "      <td>[male, 15, Student, Leo]</td>\n",
       "    </tr>\n",
       "    <tr>\n",
       "      <th>4</th>\n",
       "      <td>male</td>\n",
       "      <td>33</td>\n",
       "      <td>InvestmentBanking</td>\n",
       "      <td>Aquarius</td>\n",
       "      <td>thanks yahoo toolbar capture urls popups means...</td>\n",
       "      <td>[male, 33, InvestmentBanking, Aquarius]</td>\n",
       "    </tr>\n",
       "  </tbody>\n",
       "</table>\n",
       "</div>"
      ],
      "text/plain": [
       "  gender  ...                                   labels\n",
       "0   male  ...                 [male, 15, Student, Leo]\n",
       "1   male  ...                 [male, 15, Student, Leo]\n",
       "2   male  ...                 [male, 15, Student, Leo]\n",
       "3   male  ...                 [male, 15, Student, Leo]\n",
       "4   male  ...  [male, 33, InvestmentBanking, Aquarius]\n",
       "\n",
       "[5 rows x 6 columns]"
      ]
     },
     "execution_count": 623,
     "metadata": {
      "tags": []
     },
     "output_type": "execute_result"
    }
   ],
   "source": [
    "blog_text.head()"
   ]
  },
  {
   "cell_type": "code",
   "execution_count": 624,
   "metadata": {
    "id": "DlC-bTNX5VSe"
   },
   "outputs": [],
   "source": [
    "#drop gender,age,topic & sign \n",
    "blog_text.drop(columns=['gender','age','topic','sign'], axis=1, inplace=True)"
   ]
  },
  {
   "cell_type": "code",
   "execution_count": 625,
   "metadata": {
    "colab": {
     "base_uri": "https://localhost:8080/"
    },
    "id": "p4atDg9A5VG-",
    "outputId": "1dc01622-618a-4226-e63a-f6176d1bea45"
   },
   "outputs": [
    {
     "data": {
      "text/plain": [
       "Index(['text', 'labels'], dtype='object')"
      ]
     },
     "execution_count": 625,
     "metadata": {
      "tags": []
     },
     "output_type": "execute_result"
    }
   ],
   "source": [
    "blog_text.columns"
   ]
  },
  {
   "cell_type": "code",
   "execution_count": 626,
   "metadata": {
    "colab": {
     "base_uri": "https://localhost:8080/",
     "height": 206
    },
    "id": "7HShaZh35VEc",
    "outputId": "a7e6435e-6a18-4fd5-8bd0-c28cc23b4d37"
   },
   "outputs": [
    {
     "data": {
      "text/html": [
       "<div>\n",
       "<style scoped>\n",
       "    .dataframe tbody tr th:only-of-type {\n",
       "        vertical-align: middle;\n",
       "    }\n",
       "\n",
       "    .dataframe tbody tr th {\n",
       "        vertical-align: top;\n",
       "    }\n",
       "\n",
       "    .dataframe thead th {\n",
       "        text-align: right;\n",
       "    }\n",
       "</style>\n",
       "<table border=\"1\" class=\"dataframe\">\n",
       "  <thead>\n",
       "    <tr style=\"text-align: right;\">\n",
       "      <th></th>\n",
       "      <th>text</th>\n",
       "      <th>labels</th>\n",
       "    </tr>\n",
       "  </thead>\n",
       "  <tbody>\n",
       "    <tr>\n",
       "      <th>0</th>\n",
       "      <td>info found 100 pages 4 5 mb pdf files wait unt...</td>\n",
       "      <td>[male, 15, Student, Leo]</td>\n",
       "    </tr>\n",
       "    <tr>\n",
       "      <th>1</th>\n",
       "      <td>team members drewes van der laag urllink mail ...</td>\n",
       "      <td>[male, 15, Student, Leo]</td>\n",
       "    </tr>\n",
       "    <tr>\n",
       "      <th>2</th>\n",
       "      <td>het kader van kernfusie op aarde maak je eigen...</td>\n",
       "      <td>[male, 15, Student, Leo]</td>\n",
       "    </tr>\n",
       "    <tr>\n",
       "      <th>3</th>\n",
       "      <td>testing testing</td>\n",
       "      <td>[male, 15, Student, Leo]</td>\n",
       "    </tr>\n",
       "    <tr>\n",
       "      <th>4</th>\n",
       "      <td>thanks yahoo toolbar capture urls popups means...</td>\n",
       "      <td>[male, 33, InvestmentBanking, Aquarius]</td>\n",
       "    </tr>\n",
       "  </tbody>\n",
       "</table>\n",
       "</div>"
      ],
      "text/plain": [
       "                                                text                                   labels\n",
       "0  info found 100 pages 4 5 mb pdf files wait unt...                 [male, 15, Student, Leo]\n",
       "1  team members drewes van der laag urllink mail ...                 [male, 15, Student, Leo]\n",
       "2  het kader van kernfusie op aarde maak je eigen...                 [male, 15, Student, Leo]\n",
       "3                                    testing testing                 [male, 15, Student, Leo]\n",
       "4  thanks yahoo toolbar capture urls popups means...  [male, 33, InvestmentBanking, Aquarius]"
      ]
     },
     "execution_count": 626,
     "metadata": {
      "tags": []
     },
     "output_type": "execute_result"
    }
   ],
   "source": [
    "blog_text.head()"
   ]
  },
  {
   "cell_type": "code",
   "execution_count": 627,
   "metadata": {
    "id": "cfM7pBfa5U5b"
   },
   "outputs": [],
   "source": [
    "#Splitting train & test\n",
    "X = blog_text['text']\n",
    "y = blog_text['labels']"
   ]
  },
  {
   "cell_type": "code",
   "execution_count": 628,
   "metadata": {
    "id": "Sv5rs3HE9xcj"
   },
   "outputs": [],
   "source": [
    "X_train, X_test, y_train, y_test = train_test_split(X, y, test_size=0.30, random_state = 40)"
   ]
  },
  {
   "cell_type": "code",
   "execution_count": 629,
   "metadata": {
    "colab": {
     "base_uri": "https://localhost:8080/"
    },
    "id": "Et9WlOoH9xah",
    "outputId": "15b05f19-8571-4a51-d648-ae26a1d6ae19"
   },
   "outputs": [
    {
     "name": "stdout",
     "output_type": "stream",
     "text": [
      "Train set shape:  (3500,)\n",
      "Test set shape:  (1500,)\n"
     ]
    }
   ],
   "source": [
    "print(\"Train set shape: \", X_train.shape)\n",
    "print(\"Test set shape: \", X_test.shape)"
   ]
  },
  {
   "cell_type": "code",
   "execution_count": 630,
   "metadata": {
    "id": "nAw1_fC989oL"
   },
   "outputs": [],
   "source": [
    "#Target merging & transformation\n",
    "\n",
    "label_counts=dict()\n",
    "\n",
    "for labels in blog_text.labels.values:\n",
    "    for label in labels:\n",
    "        if label in label_counts:\n",
    "            label_counts[str(label)]+=1\n",
    "        else:\n",
    "            label_counts[str(label)]=1"
   ]
  },
  {
   "cell_type": "code",
   "execution_count": 631,
   "metadata": {
    "id": "9EiML7fY8nwD"
   },
   "outputs": [],
   "source": [
    "binarizer=MultiLabelBinarizer(classes=sorted(label_counts.keys()))"
   ]
  },
  {
   "cell_type": "code",
   "execution_count": 632,
   "metadata": {
    "id": "sGcXMexl8nrG"
   },
   "outputs": [],
   "source": [
    "y_train = binarizer.fit_transform(y_train)"
   ]
  },
  {
   "cell_type": "code",
   "execution_count": 633,
   "metadata": {
    "id": "HPulsDmc8nok"
   },
   "outputs": [],
   "source": [
    "y_test = binarizer.transform(y_test)"
   ]
  },
  {
   "cell_type": "code",
   "execution_count": 634,
   "metadata": {
    "id": "1HR6A2IV9xVM"
   },
   "outputs": [],
   "source": [
    "# Creating the vectorizer\n",
    "vectorizer = CountVectorizer(min_df = 2,ngram_range = (1,2),stop_words = \"english\")\n",
    "\n",
    "X_train_vector = vectorizer.fit_transform(X_train)\n",
    "X_test_vector = vectorizer.transform(X_test)"
   ]
  },
  {
   "cell_type": "code",
   "execution_count": 635,
   "metadata": {
    "colab": {
     "base_uri": "https://localhost:8080/"
    },
    "id": "pALc4DJl9xSq",
    "outputId": "9bd2047a-3947-4043-a6da-998fc29143ea"
   },
   "outputs": [
    {
     "name": "stdout",
     "output_type": "stream",
     "text": [
      "Length of the vocabulary:  27287\n",
      "Shape of the vector:  (3500, 27287)\n",
      "Type:  <class 'scipy.sparse.csr.csr_matrix'>\n"
     ]
    }
   ],
   "source": [
    "print(\"Length of the vocabulary: \", len(vectorizer.vocabulary_))\n",
    "print(\"Shape of the vector: \",X_train_vector.shape)\n",
    "print(\"Type: \",type(X_train_vector))"
   ]
  },
  {
   "cell_type": "code",
   "execution_count": 636,
   "metadata": {
    "colab": {
     "base_uri": "https://localhost:8080/"
    },
    "id": "8RUKUr569xJC",
    "outputId": "d24aa7d2-9bf7-479d-a2d1-c7b3efa1a870"
   },
   "outputs": [
    {
     "name": "stdout",
     "output_type": "stream",
     "text": [
      "Shape of the vector:  (1500, 27287)\n",
      "Type:  <class 'scipy.sparse.csr.csr_matrix'>\n"
     ]
    }
   ],
   "source": [
    "print(\"Shape of the vector: \",X_test_vector.shape)\n",
    "print(\"Type: \",type(X_test_vector ))"
   ]
  },
  {
   "cell_type": "markdown",
   "metadata": {
    "id": "pdTVA63_BXeY"
   },
   "source": [
    "### 3. Designing, training, tuning and testing the best text classifier"
   ]
  },
  {
   "cell_type": "code",
   "execution_count": 637,
   "metadata": {
    "id": "b5nm3j3P9w5t"
   },
   "outputs": [],
   "source": [
    "LR_pipeline = Pipeline([('clf', OneVsRestClassifier(LogisticRegression(),n_jobs=1)),])\n",
    "LR_pipeline.fit(X_train_vector, y_train)\n",
    "LR_pred = LR_pipeline.predict(X_test_vector)"
   ]
  },
  {
   "cell_type": "code",
   "execution_count": 638,
   "metadata": {
    "id": "xsdxeLWTTIDB"
   },
   "outputs": [],
   "source": [
    "SVC_pipeline = Pipeline([('clf', OneVsRestClassifier(LinearSVC(C=1.0, penalty='l1', dual=False, loss='squared_hinge'), n_jobs=-1)),])\n",
    "SVC_pipeline.fit(X_train_vector, y_train)\n",
    "SVC_pred = SVC_pipeline.predict(X_test_vector)"
   ]
  },
  {
   "cell_type": "code",
   "execution_count": 639,
   "metadata": {
    "id": "AS2nJ_vUT8pg"
   },
   "outputs": [],
   "source": [
    "NB_pipeline = Pipeline([('clf', OneVsRestClassifier(MultinomialNB(alpha=1.0), n_jobs=-1)),])\n",
    "NB_pipeline.fit(X_train_vector, y_train)\n",
    "NB_pred = NB_pipeline.predict(X_test_vector)"
   ]
  },
  {
   "cell_type": "code",
   "execution_count": 640,
   "metadata": {
    "id": "HZSsCTiAeA5v"
   },
   "outputs": [],
   "source": [
    "SGD_pipeline = Pipeline([('clf', OneVsRestClassifier(SGDClassifier(), n_jobs=-1)),])\n",
    "SGD_pipeline.fit(X_train_vector, y_train)\n",
    "SGD_pred = SGD_pipeline.predict(X_test_vector)"
   ]
  },
  {
   "cell_type": "code",
   "execution_count": 641,
   "metadata": {
    "colab": {
     "base_uri": "https://localhost:8080/"
    },
    "id": "DUpW_5F0tPYY",
    "outputId": "cd1c44d3-1947-46fb-fc7e-8f3bd19426bb"
   },
   "outputs": [
    {
     "name": "stdout",
     "output_type": "stream",
     "text": [
      "Accuracy score before tuning:\n",
      "============================\n",
      "\n",
      "LOGISTIC REGRESSION MODEL\n",
      "-------------------------\n",
      "Training Accuracy: 95.97%\n",
      "Test Accuracy: 51.80%\n",
      "\n",
      "LINEAR SVC MODEL\n",
      "----------------\n",
      "Training Accuracy: 99.17%\n",
      "Test Accuracy: 49.20%\n",
      "\n",
      "NAIVE BAYES MODEL\n",
      "-----------------\n",
      "Training Accuracy: 69.74%\n",
      "Test Accuracy: 33.73%\n",
      "\n",
      "STOCHASTIC GRADIENT DESCENT MODEL\n",
      "---------------------------------\n",
      "Training Accuracy: 96.63%\n",
      "Test Accuracy: 48.87%\n"
     ]
    }
   ],
   "source": [
    "print(\"Accuracy score before tuning:\\n============================\\n\")\n",
    "print(\"LOGISTIC REGRESSION MODEL\")\n",
    "print(\"-------------------------\")\n",
    "print('Training Accuracy: {:.2f}%'.format(LR_pipeline.score(X_train_vector,y_train)*100))\n",
    "print('Test Accuracy: {:.2f}%'.format(accuracy_score(y_test,LR_pred)*100))\n",
    "print(\"\\nLINEAR SVC MODEL\")\n",
    "print(\"----------------\")\n",
    "print('Training Accuracy: {:.2f}%'.format(SVC_pipeline.score(X_train_vector,y_train)*100))\n",
    "print('Test Accuracy: {:.2f}%'.format(accuracy_score(y_test,SVC_pred)*100))\n",
    "print(\"\\nNAIVE BAYES MODEL\")\n",
    "print(\"-----------------\")\n",
    "print('Training Accuracy: {:.2f}%'.format(NB_pipeline.score(X_train_vector,y_train)*100))\n",
    "print('Test Accuracy: {:.2f}%'.format(accuracy_score(y_test,NB_pred)*100))\n",
    "print(\"\\nSTOCHASTIC GRADIENT DESCENT MODEL\")\n",
    "print(\"---------------------------------\")\n",
    "print('Training Accuracy: {:.2f}%'.format(SGD_pipeline.score(X_train_vector,y_train)*100))\n",
    "print('Test Accuracy: {:.2f}%'.format(accuracy_score(y_test,SGD_pred)*100))"
   ]
  },
  {
   "cell_type": "code",
   "execution_count": 642,
   "metadata": {
    "id": "gNUuSO1h-MR7"
   },
   "outputs": [],
   "source": [
    "param_grid = [\n",
    "    {'estimator__penalty': ['l1', 'l2'],\n",
    "    'estimator__C': [100, 10, 1, 0.01, 5],\n",
    "    'estimator__solver':  ['newton-cg', 'lbfgs', 'liblinear', 'sag']}]"
   ]
  },
  {
   "cell_type": "code",
   "execution_count": 643,
   "metadata": {
    "colab": {
     "base_uri": "https://localhost:8080/"
    },
    "id": "nBLG2Fs55vYb",
    "outputId": "b50733fd-282f-49e3-8ef7-bd616416d1d7"
   },
   "outputs": [
    {
     "name": "stdout",
     "output_type": "stream",
     "text": [
      "Fitting 3 folds for each of 40 candidates, totalling 120 fits\n"
     ]
    },
    {
     "name": "stderr",
     "output_type": "stream",
     "text": [
      "[Parallel(n_jobs=-1)]: Using backend LokyBackend with 2 concurrent workers.\n",
      "[Parallel(n_jobs=-1)]: Done  53 tasks      | elapsed:  3.8min\n",
      "[Parallel(n_jobs=-1)]: Done 120 out of 120 | elapsed:  8.4min finished\n"
     ]
    },
    {
     "name": "stdout",
     "output_type": "stream",
     "text": [
      "OneVsRestClassifier(estimator=LogisticRegression(C=1, class_weight=None,\n",
      "                                                 dual=False, fit_intercept=True,\n",
      "                                                 intercept_scaling=1,\n",
      "                                                 l1_ratio=None, max_iter=100,\n",
      "                                                 multi_class='auto',\n",
      "                                                 n_jobs=None, penalty='l2',\n",
      "                                                 random_state=None,\n",
      "                                                 solver='liblinear', tol=0.0001,\n",
      "                                                 verbose=0, warm_start=False),\n",
      "                    n_jobs=None)\n",
      "Best Score: 0.5228555134700549\n",
      "Best Hyperparameters: {'estimator__C': 1, 'estimator__penalty': 'l2', 'estimator__solver': 'liblinear'}\n"
     ]
    }
   ],
   "source": [
    "log_reg_clf = OneVsRestClassifier(LogisticRegression())\n",
    "\n",
    "LR_Tuning = GridSearchCV(log_reg_clf, param_grid, scoring = 'accuracy', cv = 3, error_score = 0, verbose = 2, n_jobs = -1)\n",
    "\n",
    "LR_Tuning.fit(X_train_vector, y_train)\n",
    "print(LR_Tuning.best_estimator_)\n",
    "print('Best Score: %s' % LR_Tuning.best_score_)\n",
    "print('Best Hyperparameters: %s' % LR_Tuning.best_params_)"
   ]
  },
  {
   "cell_type": "code",
   "execution_count": 644,
   "metadata": {
    "id": "co9SvwioiVJQ"
   },
   "outputs": [],
   "source": [
    "param_grid = [\n",
    "    {'estimator__penalty': ['l1', 'l2'],\n",
    "    'estimator__loss': ['hinge', 'squared_hinge']\n",
    "     }]"
   ]
  },
  {
   "cell_type": "code",
   "execution_count": 645,
   "metadata": {
    "colab": {
     "base_uri": "https://localhost:8080/"
    },
    "id": "_4Vw9y8ajjkC",
    "outputId": "47fbcd0d-2f83-41c6-fa19-fe8f41d2bb8f"
   },
   "outputs": [
    {
     "name": "stdout",
     "output_type": "stream",
     "text": [
      "Fitting 3 folds for each of 4 candidates, totalling 12 fits\n"
     ]
    },
    {
     "name": "stderr",
     "output_type": "stream",
     "text": [
      "[Parallel(n_jobs=-1)]: Using backend LokyBackend with 2 concurrent workers.\n",
      "[Parallel(n_jobs=-1)]: Done  12 out of  12 | elapsed:    8.2s finished\n"
     ]
    },
    {
     "name": "stdout",
     "output_type": "stream",
     "text": [
      "OneVsRestClassifier(estimator=LinearSVC(C=1.0, class_weight=None, dual=True,\n",
      "                                        fit_intercept=True, intercept_scaling=1,\n",
      "                                        loss='squared_hinge', max_iter=1000,\n",
      "                                        multi_class='ovr', penalty='l2',\n",
      "                                        random_state=None, tol=0.0001,\n",
      "                                        verbose=0),\n",
      "                    n_jobs=None)\n",
      "Best Score: 0.4934270188914415\n",
      "Best Hyperparameters: {'estimator__loss': 'squared_hinge', 'estimator__penalty': 'l2'}\n"
     ]
    }
   ],
   "source": [
    "lsvc_clf = OneVsRestClassifier(LinearSVC())\n",
    "\n",
    "SVC_Tuning = GridSearchCV(lsvc_clf, param_grid, scoring = 'accuracy', cv = 3, error_score = 0, verbose = 2, n_jobs = -1)\n",
    "\n",
    "SVC_Tuning.fit(X_train_vector, y_train)\n",
    "print(SVC_Tuning.best_estimator_)\n",
    "print('Best Score: %s' % SVC_Tuning.best_score_)\n",
    "print('Best Hyperparameters: %s' % SVC_Tuning.best_params_)"
   ]
  },
  {
   "cell_type": "code",
   "execution_count": 646,
   "metadata": {
    "id": "204sP0UtkKg4"
   },
   "outputs": [],
   "source": [
    "param_grid = [\n",
    "    {'estimator__alpha': np.linspace(0.5, 1.5, 6),\n",
    "     'estimator__fit_prior': [True, False],\n",
    "     }]"
   ]
  },
  {
   "cell_type": "code",
   "execution_count": 647,
   "metadata": {
    "colab": {
     "base_uri": "https://localhost:8080/"
    },
    "id": "T1Vehnx5kKdg",
    "outputId": "e5943aed-8fc2-4881-d87a-f69e1d9de0cf"
   },
   "outputs": [
    {
     "name": "stdout",
     "output_type": "stream",
     "text": [
      "Fitting 3 folds for each of 12 candidates, totalling 36 fits\n"
     ]
    },
    {
     "name": "stderr",
     "output_type": "stream",
     "text": [
      "[Parallel(n_jobs=-1)]: Using backend LokyBackend with 2 concurrent workers.\n",
      "[Parallel(n_jobs=-1)]: Done  36 out of  36 | elapsed:    8.6s finished\n"
     ]
    },
    {
     "name": "stdout",
     "output_type": "stream",
     "text": [
      "OneVsRestClassifier(estimator=MultinomialNB(alpha=0.5, class_prior=None,\n",
      "                                            fit_prior=True),\n",
      "                    n_jobs=None)\n",
      "Best Score: 0.4014344345624357\n",
      "Best Hyperparameters: {'estimator__alpha': 0.5, 'estimator__fit_prior': True}\n"
     ]
    }
   ],
   "source": [
    "NB_clf = OneVsRestClassifier(MultinomialNB())\n",
    "NB_Tuning = GridSearchCV(NB_clf, param_grid, scoring = 'accuracy', cv = 3, error_score = 0, verbose = 2, n_jobs = -1)\n",
    "\n",
    "NB_Tuning.fit(X_train_vector, y_train)\n",
    "print(NB_Tuning.best_estimator_)\n",
    "print('Best Score: %s' % NB_Tuning.best_score_)\n",
    "print('Best Hyperparameters: %s' % NB_Tuning.best_params_)"
   ]
  },
  {
   "cell_type": "code",
   "execution_count": 648,
   "metadata": {
    "id": "OpXdjsuTl7nH"
   },
   "outputs": [],
   "source": [
    "param_grid = [\n",
    "    {'estimator__loss': ['hinge', 'log', 'modified_huber', 'squared_hinge'],\n",
    "     'estimator__penalty': ['l2', 'l1', 'elasticnet'],\n",
    "     'estimator__alpha':  np.linspace(0.5, 1.5, 6)\n",
    "     }]"
   ]
  },
  {
   "cell_type": "code",
   "execution_count": 649,
   "metadata": {
    "colab": {
     "base_uri": "https://localhost:8080/"
    },
    "id": "tQj7ZVXel7gF",
    "outputId": "67a62a62-851a-4913-a3f3-0a7422f9f538"
   },
   "outputs": [
    {
     "name": "stdout",
     "output_type": "stream",
     "text": [
      "Fitting 3 folds for each of 72 candidates, totalling 216 fits\n"
     ]
    },
    {
     "name": "stderr",
     "output_type": "stream",
     "text": [
      "[Parallel(n_jobs=-1)]: Using backend LokyBackend with 2 concurrent workers.\n",
      "[Parallel(n_jobs=-1)]: Done  37 tasks      | elapsed:  1.9min\n",
      "[Parallel(n_jobs=-1)]: Done 158 tasks      | elapsed:  5.4min\n",
      "[Parallel(n_jobs=-1)]: Done 216 out of 216 | elapsed:  6.8min finished\n"
     ]
    },
    {
     "name": "stdout",
     "output_type": "stream",
     "text": [
      "OneVsRestClassifier(estimator=SGDClassifier(alpha=0.5, average=False,\n",
      "                                            class_weight=None,\n",
      "                                            early_stopping=False, epsilon=0.1,\n",
      "                                            eta0=0.0, fit_intercept=True,\n",
      "                                            l1_ratio=0.15,\n",
      "                                            learning_rate='optimal',\n",
      "                                            loss='modified_huber',\n",
      "                                            max_iter=1000, n_iter_no_change=5,\n",
      "                                            n_jobs=None, penalty='l2',\n",
      "                                            power_t=0.5, random_state=None,\n",
      "                                            shuffle=True, tol=0.001,\n",
      "                                            validation_fraction=0.1, verbose=0,\n",
      "                                            warm_start=False),\n",
      "                    n_jobs=None)\n",
      "Best Score: 0.3948592487419669\n",
      "Best Hyperparameters: {'estimator__alpha': 0.5, 'estimator__loss': 'modified_huber', 'estimator__penalty': 'l2'}\n"
     ]
    }
   ],
   "source": [
    "SGD_clf = OneVsRestClassifier(SGDClassifier())\n",
    "\n",
    "SGD_Tuning = GridSearchCV(SGD_clf, param_grid, scoring = 'accuracy', cv = 3, error_score = 0, verbose = 2, n_jobs = -1)\n",
    "\n",
    "SGD_Tuning.fit(X_train_vector, y_train)\n",
    "print(SGD_Tuning.best_estimator_)\n",
    "print('Best Score: %s' % SGD_Tuning.best_score_)\n",
    "print('Best Hyperparameters: %s' % SGD_Tuning.best_params_)"
   ]
  },
  {
   "cell_type": "code",
   "execution_count": 650,
   "metadata": {
    "id": "Z1Zuj_b_nfHn"
   },
   "outputs": [],
   "source": [
    "LR_pipeline = Pipeline([('clf', OneVsRestClassifier(LogisticRegression(C= 1, penalty= 'l2', solver= 'liblinear'),n_jobs=1)),])\n",
    "LR_pipeline.fit(X_train_vector, y_train)\n",
    "LR_pred = LR_pipeline.predict(X_test_vector)"
   ]
  },
  {
   "cell_type": "code",
   "execution_count": 651,
   "metadata": {
    "id": "ZhnMdm8bngIs"
   },
   "outputs": [],
   "source": [
    "SVC_pipeline = Pipeline([('clf', OneVsRestClassifier(LinearSVC(loss= 'squared_hinge', penalty= 'l2'), n_jobs=-1)),])\n",
    "SVC_pipeline.fit(X_train_vector, y_train)\n",
    "SVC_pred = SVC_pipeline.predict(X_test_vector)"
   ]
  },
  {
   "cell_type": "code",
   "execution_count": 652,
   "metadata": {
    "id": "aGtJizntngFZ"
   },
   "outputs": [],
   "source": [
    "NB_pipeline = Pipeline([('clf', OneVsRestClassifier(MultinomialNB(alpha= 0.5, fit_prior= True), n_jobs=-1)),])\n",
    "NB_pipeline.fit(X_train_vector, y_train)\n",
    "NB_pred = NB_pipeline.predict(X_test_vector)"
   ]
  },
  {
   "cell_type": "code",
   "execution_count": 653,
   "metadata": {
    "id": "Zu6v9PqVngCs"
   },
   "outputs": [],
   "source": [
    "SGD_pipeline = Pipeline([('clf', OneVsRestClassifier(SGDClassifier(alpha= 0.5, loss= 'modified_huber', penalty= 'l2'), n_jobs=-1)),])\n",
    "SGD_pipeline.fit(X_train_vector, y_train)\n",
    "SGD_pred = SGD_pipeline.predict(X_test_vector)"
   ]
  },
  {
   "cell_type": "code",
   "execution_count": 654,
   "metadata": {
    "colab": {
     "base_uri": "https://localhost:8080/"
    },
    "id": "iuXdRxdtngAZ",
    "outputId": "d5d24b2b-22c1-4730-e0e0-7b22fca9ff3a"
   },
   "outputs": [
    {
     "name": "stdout",
     "output_type": "stream",
     "text": [
      "Accuracy score after tuning:\n",
      "============================\n",
      "\n",
      "LOGISTIC REGRESSION MODEL\n",
      "-------------------------\n",
      "Training Accuracy: 96.26%\n",
      "Test Accuracy: 51.73%\n",
      "\n",
      "LINEAR SVC MODEL\n",
      "----------------\n",
      "Training Accuracy: 99.63%\n",
      "Test Accuracy: 48.40%\n",
      "\n",
      "NAIVE BAYES MODEL\n",
      "-----------------\n",
      "Training Accuracy: 77.26%\n",
      "Test Accuracy: 39.00%\n",
      "\n",
      "STOCHASTIC GRADIENT DESCENT MODEL\n",
      "---------------------------------\n",
      "Training Accuracy: 48.31%\n",
      "Test Accuracy: 41.20%\n"
     ]
    }
   ],
   "source": [
    "print(\"Accuracy score after tuning:\\n============================\\n\")\n",
    "print(\"LOGISTIC REGRESSION MODEL\")\n",
    "print(\"-------------------------\")\n",
    "print('Training Accuracy: {:.2f}%'.format(LR_pipeline.score(X_train_vector,y_train)*100))\n",
    "print('Test Accuracy: {:.2f}%'.format(accuracy_score(y_test,LR_pred)*100))\n",
    "print(\"\\nLINEAR SVC MODEL\")\n",
    "print(\"----------------\")\n",
    "print('Training Accuracy: {:.2f}%'.format(SVC_pipeline.score(X_train_vector,y_train)*100))\n",
    "print('Test Accuracy: {:.2f}%'.format(accuracy_score(y_test,SVC_pred)*100))\n",
    "print(\"\\nNAIVE BAYES MODEL\")\n",
    "print(\"-----------------\")\n",
    "print('Training Accuracy: {:.2f}%'.format(NB_pipeline.score(X_train_vector,y_train)*100))\n",
    "print('Test Accuracy: {:.2f}%'.format(accuracy_score(y_test,NB_pred)*100))\n",
    "print(\"\\nSTOCHASTIC GRADIENT DESCENT MODEL\")\n",
    "print(\"---------------------------------\")\n",
    "print('Training Accuracy: {:.2f}%'.format(SGD_pipeline.score(X_train_vector,y_train)*100))\n",
    "print('Test Accuracy: {:.2f}%'.format(accuracy_score(y_test,SGD_pred)*100))"
   ]
  },
  {
   "cell_type": "code",
   "execution_count": 655,
   "metadata": {
    "id": "8mQR8OENM0Ev"
   },
   "outputs": [],
   "source": [
    "def model_metric(y_test, pred):\n",
    "\n",
    "    F1_arr = []\n",
    "    recall_arr = []\n",
    "    precision_arr = []\n",
    "\n",
    "    F1_arr.append(f1_score(y_test, pred, average='micro'))\n",
    "    F1_arr.append(f1_score(y_test, pred, average='macro'))\n",
    "    F1_arr.append(f1_score(y_test, pred, average='weighted'))\n",
    "    F1_arr.append(f1_score(y_test, pred, average='samples'))\n",
    "\n",
    "    recall_arr.append(recall_score(y_test, pred, average='micro'))\n",
    "    recall_arr.append(recall_score(y_test, pred, average='macro'))\n",
    "    recall_arr.append(recall_score(y_test, pred, average='weighted'))\n",
    "    recall_arr.append(recall_score(y_test, pred, average='samples'))\n",
    "\n",
    "    precision_arr.append(precision_score(y_test, pred, average='micro'))\n",
    "    precision_arr.append(precision_score(y_test, pred, average='macro'))\n",
    "    precision_arr.append(precision_score(y_test, pred, average='weighted'))\n",
    "    precision_arr.append(precision_score(y_test, pred, average='samples'))\n",
    "\n",
    "    show_plot(F1_arr,recall_arr,precision_arr)\n",
    "\n",
    "    return "
   ]
  },
  {
   "cell_type": "code",
   "execution_count": 656,
   "metadata": {
    "id": "KBqEUC5vVmuf"
   },
   "outputs": [],
   "source": [
    "def show_plot(F1_arr,recall_arr,precision_arr):\n",
    "  \n",
    "    avg_lst = ['Micro','Macro','Weighted','Samples']\n",
    "\n",
    "    #Creating a graph of multiple bars\n",
    "    ig, ax = plt.subplots(figsize=(10,8))\n",
    "\n",
    "    n_groups = 4\n",
    "    index = np.arange(n_groups)\n",
    "    bar_width = 0.1\n",
    "    opacity = .7\n",
    "    f1_bar = ax.bar(index,  F1_arr, bar_width, alpha=opacity, color='Sienna', label='F1 Score')\n",
    "    precision_bar = ax.bar(index + bar_width, precision_arr, bar_width, alpha=opacity, color='orangered', label='Precision Score')\n",
    "    recall_bar = ax.bar(index + (bar_width*2), recall_arr, bar_width, alpha=opacity, color='red', label='Recall Score')\n",
    "    ax.set_xlabel('Model Metrics',  fontsize = 13)\n",
    "    ax.set_ylabel('Model Performance Measures',  fontsize = 13)\n",
    "    ax.set_title('Comparison of Model Metric Averages',  fontsize = 15)\n",
    "    ax.set_xticks(index + bar_width)\n",
    "    ax.set_xticklabels(avg_lst, fontsize = 12)\n",
    "    ax.tick_params(labelsize=10)\n",
    "    ax.legend(fontsize = 10, loc = 'best')\n",
    "    plt.show()"
   ]
  },
  {
   "cell_type": "code",
   "execution_count": 657,
   "metadata": {
    "colab": {
     "base_uri": "https://localhost:8080/",
     "height": 520
    },
    "id": "KdgxZ4c4maaF",
    "outputId": "4fff93ff-3320-4734-8164-80a4d035cf57"
   },
   "outputs": [
    {
     "data": {
      "image/png": "[encoded data removed]",
      "text/plain": [
       "<Figure size 720x576 with 1 Axes>"
      ]
     },
     "metadata": {
      "needs_background": "light",
      "tags": []
     },
     "output_type": "display_data"
    }
   ],
   "source": [
    "model_metric(y_test,LR_pred)"
   ]
  },
  {
   "cell_type": "code",
   "execution_count": 658,
   "metadata": {
    "colab": {
     "base_uri": "https://localhost:8080/",
     "height": 520
    },
    "id": "-6WIARQumbRg",
    "outputId": "32151c76-f0e6-4ca4-aa83-70fcae8003f1"
   },
   "outputs": [
    {
     "data": {
      "image/png": "[encoded data removed]",
      "text/plain": [
       "<Figure size 720x576 with 1 Axes>"
      ]
     },
     "metadata": {
      "needs_background": "light",
      "tags": []
     },
     "output_type": "display_data"
    }
   ],
   "source": [
    "model_metric(y_test,SVC_pred)"
   ]
  },
  {
   "cell_type": "code",
   "execution_count": 659,
   "metadata": {
    "colab": {
     "base_uri": "https://localhost:8080/",
     "height": 520
    },
    "id": "oDq1Ce4bmbN0",
    "outputId": "fb8920ab-954f-4137-8c0c-3aaf13325417"
   },
   "outputs": [
    {
     "data": {
      "image/png": "[encoded data removed]",
      "text/plain": [
       "<Figure size 720x576 with 1 Axes>"
      ]
     },
     "metadata": {
      "needs_background": "light",
      "tags": []
     },
     "output_type": "display_data"
    }
   ],
   "source": [
    "model_metric(y_test,NB_pred)"
   ]
  },
  {
   "cell_type": "code",
   "execution_count": 660,
   "metadata": {
    "colab": {
     "base_uri": "https://localhost:8080/",
     "height": 520
    },
    "id": "HCmDVkP8mbLQ",
    "outputId": "ebfb8fd0-fb26-46b1-ae40-60899c6d83fe"
   },
   "outputs": [
    {
     "data": {
      "image/png": "[encoded data removed]",
      "text/plain": [
       "<Figure size 720x576 with 1 Axes>"
      ]
     },
     "metadata": {
      "needs_background": "light",
      "tags": []
     },
     "output_type": "display_data"
    }
   ],
   "source": [
    "model_metric(y_test,SGD_pred)"
   ]
  },
  {
   "cell_type": "markdown",
   "metadata": {
    "id": "r6ZkLn7-Bnwq"
   },
   "source": [
    "### 4. Displaying and explaining the classification report"
   ]
  },
  {
   "cell_type": "markdown",
   "metadata": {
    "id": "2_IFK2HWyata"
   },
   "source": [
    "A Classification report shows the main classification metrics precision, recall and f1-score on a per-class basis. The metrics are calculated by using true and false positives, true and false negatives.\n",
    "\n",
    "Precision – Accuracy of positive predictions.\n",
    "Precision = TP/(TP + FP)\n",
    "\n",
    "Recall: Fraction of positives that were correctly identified.\n",
    "Recall = TP/(TP+FN)\n",
    "\n",
    "F1 Score = 2 * (Recall * Precision) / (Recall + Precision)\n",
    "\n",
    "A macro-average will compute the metric independently for each class and then take the average (hence treating all classes equally), whereas a micro-average will aggregate the contributions of all classes to compute the average metric. In a multi-class classification setup, micro-average is preferable if you suspect there might be class imbalance (i.e you may have many more examples of one class than of other classes).\n",
    "\n",
    "Here, Macro average is lower as dominating class has better predictions and so the micro average increase. This conclude that there is class imbalance. Out of the four trained models, we will select Logistic Regression has the best one and check predictions using this chosen model. Because the model metrics are comparitively better when compared. Also, the accuarcy score is higher than all the other models.\n",
    "                       \n",
    "                       precision    recall    f1-score\n",
    "    micro avg          0.81         0.67      0.73\n",
    "    macro avg          0.50         0.25      0.30\n",
    "    weighted avg       0.78         0.67      0.69\n",
    "    samples avg        0.79         0.67      0.70\n",
    "\n",
    "As seen above, the accuracy for positive predictions is more than 0.5 for all the metric averages.\n",
    "Also, the recall score is quite well as it is more than 0.6 across all the averages. \n",
    "The F1 Score takes both false positives and false negatives into account. In this case, we have F1 Score more than 0.7 across all the averages\n"
   ]
  },
  {
   "cell_type": "code",
   "execution_count": 661,
   "metadata": {
    "colab": {
     "base_uri": "https://localhost:8080/"
    },
    "id": "aLNierUmmbJN",
    "outputId": "ab9b64a1-c291-47e8-bfc7-238f07abc63e"
   },
   "outputs": [
    {
     "name": "stdout",
     "output_type": "stream",
     "text": [
      "              precision    recall  f1-score   support\n",
      "\n",
      "           0       0.80      0.16      0.27        49\n",
      "           1       0.73      0.35      0.47        95\n",
      "           2       0.50      0.09      0.15        22\n",
      "           3       0.90      0.25      0.39       104\n",
      "           4       0.50      0.17      0.26        40\n",
      "           5       0.71      0.32      0.44       115\n",
      "           6       0.48      0.13      0.20        86\n",
      "           7       1.00      0.05      0.10        38\n",
      "           8       0.67      0.16      0.26        25\n",
      "           9       0.88      0.48      0.62        31\n",
      "          10       0.96      0.74      0.84       168\n",
      "          11       0.81      0.91      0.86       677\n",
      "          12       0.25      0.07      0.11        14\n",
      "          13       0.00      0.00      0.00         6\n",
      "          14       0.50      0.07      0.12        14\n",
      "          15       0.00      0.00      0.00         3\n",
      "          16       0.00      0.00      0.00         2\n",
      "          17       0.00      0.00      0.00         2\n",
      "          18       0.00      0.00      0.00         7\n",
      "          19       0.00      0.00      0.00         2\n",
      "          20       0.00      0.00      0.00         2\n",
      "          21       0.59      0.34      0.43        96\n",
      "          22       0.80      0.88      0.84       738\n",
      "          23       1.00      0.07      0.12        15\n",
      "          24       1.00      0.20      0.33         5\n",
      "          25       0.00      0.00      0.00         3\n",
      "          26       0.75      0.23      0.35        26\n",
      "          27       0.86      0.21      0.33        29\n",
      "          28       1.00      0.45      0.62        20\n",
      "          29       0.67      0.18      0.29        11\n",
      "          30       0.00      0.00      0.00         4\n",
      "          31       0.46      0.19      0.27        31\n",
      "          32       0.76      0.40      0.52        40\n",
      "          33       0.00      0.00      0.00        29\n",
      "          34       0.00      0.00      0.00         8\n",
      "          35       0.93      0.61      0.74        23\n",
      "          36       0.00      0.00      0.00         2\n",
      "          37       0.60      0.20      0.30        59\n",
      "          38       0.66      0.37      0.48       115\n",
      "          39       0.00      0.00      0.00         2\n",
      "          40       0.00      0.00      0.00        14\n",
      "          41       0.25      0.06      0.09        18\n",
      "          42       0.00      0.00      0.00         0\n",
      "          43       0.91      0.58      0.71       227\n",
      "          44       0.00      0.00      0.00        12\n",
      "          45       0.78      0.24      0.37       128\n",
      "          46       1.00      0.67      0.80        18\n",
      "          47       0.64      0.34      0.44       156\n",
      "          48       0.17      0.03      0.05        33\n",
      "          49       0.81      0.92      0.86       686\n",
      "          50       0.00      0.00      0.00         8\n",
      "          51       0.84      0.66      0.74       525\n",
      "          52       0.78      0.52      0.62       442\n",
      "          53       0.84      0.93      0.88       975\n",
      "\n",
      "   micro avg       0.81      0.67      0.73      6000\n",
      "   macro avg       0.50      0.25      0.30      6000\n",
      "weighted avg       0.78      0.67      0.69      6000\n",
      " samples avg       0.79      0.67      0.70      6000\n",
      "\n"
     ]
    }
   ],
   "source": [
    "print(classification_report(y_test,LR_pred))"
   ]
  },
  {
   "cell_type": "markdown",
   "metadata": {
    "id": "PsohHvN0BxFH"
   },
   "source": [
    "### 5. Printing the true vs predicted labels for any 5 entries from the database"
   ]
  },
  {
   "cell_type": "code",
   "execution_count": 662,
   "metadata": {
    "colab": {
     "base_uri": "https://localhost:8080/"
    },
    "id": "UGUuFCduh37r",
    "outputId": "a3f1365e-9efd-42ea-956c-3eb192c9d606"
   },
   "outputs": [
    {
     "name": "stdout",
     "output_type": "stream",
     "text": [
      "\n",
      "========================================================\n",
      "TRUE:  ('35', 'Aries', 'Technology', 'male')\n",
      "PREDICTION:  ('35', 'Aries', 'Technology', 'male')\n",
      "==========================================================\n",
      "\n",
      "========================================================\n",
      "TRUE:  ('15', 'Aries', 'female', 'indUnk')\n",
      "PREDICTION:  ('15', 'Student', 'female', 'indUnk')\n",
      "==========================================================\n",
      "\n",
      "========================================================\n",
      "TRUE:  ('35', 'Aries', 'Technology', 'male')\n",
      "PREDICTION:  ('35', '39', 'Aries', 'Technology', 'male')\n",
      "==========================================================\n",
      "\n",
      "========================================================\n",
      "TRUE:  ('17', 'Capricorn', 'Sports-Recreation', 'male')\n",
      "PREDICTION:  ('17', 'Capricorn', 'Sports-Recreation', 'female')\n",
      "==========================================================\n",
      "\n",
      "========================================================\n",
      "TRUE:  ('34', 'Sagittarius', 'female', 'indUnk')\n",
      "PREDICTION:  ('34', 'Sagittarius', 'female', 'indUnk')\n",
      "==========================================================\n"
     ]
    }
   ],
   "source": [
    "j=[]\n",
    "for i in range(5):\n",
    "    j.append(random.randint(500,len(prediction)))\n",
    "\n",
    "for k in j:    \n",
    "    print(\"\\n========================================================\")\n",
    "    print(\"TRUE: \",binarizer.inverse_transform(y_test)[k])\n",
    "    print(\"PREDICTION: \",binarizer.inverse_transform(LR_pred)[k])\n",
    "    print(\"==========================================================\")"
   ]
  },
  {
   "cell_type": "markdown",
   "metadata": {
    "id": "d5zVykuH5iaF"
   },
   "source": [
    "# **Part Two**\n",
    "\n",
    "> **Project Objective:**  To design a python based interactive semi - rule based chatbot which can do the following:\n",
    "\n",
    "> 1. Start chat session with greetings and ask what the user is looking for.\n",
    "2. Accept dynamic text based questions from the user. Reply back with relevant answer from the designed corpus. \n",
    "3. End the chat session only if the user requests to end else ask what the user is looking for. Loop continues till the user asks to end it.\n"
   ]
  },
  {
   "cell_type": "code",
   "execution_count": 561,
   "metadata": {
    "colab": {
     "base_uri": "https://localhost:8080/"
    },
    "id": "vRtdH0k85333",
    "outputId": "175699ae-1561-4566-f203-fa6284edb68c"
   },
   "outputs": [
    {
     "name": "stdout",
     "output_type": "stream",
     "text": [
      "[nltk_data] Downloading package stopwords to /root/nltk_data...\n",
      "[nltk_data]   Package stopwords is already up-to-date!\n",
      "[nltk_data] Downloading package punkt to /root/nltk_data...\n",
      "[nltk_data]   Package punkt is already up-to-date!\n",
      "[nltk_data] Downloading package wordnet to /root/nltk_data...\n",
      "[nltk_data]   Package wordnet is already up-to-date!\n"
     ]
    }
   ],
   "source": [
    "import json \n",
    "import numpy as np \n",
    "import pandas as pd\n",
    "import tensorflow as tf\n",
    "from tensorflow import keras\n",
    "from tensorflow.keras.models import Sequential\n",
    "from tensorflow.keras.layers import Dense, Activation, Dropout\n",
    "from tensorflow.keras.preprocessing.text import Tokenizer\n",
    "from tensorflow.keras.preprocessing.sequence import pad_sequences\n",
    "from sklearn.preprocessing import LabelEncoder\n",
    "import pickle\n",
    "import nltk\n",
    "nltk.download('stopwords')\n",
    "nltk.download('punkt')\n",
    "nltk.download('wordnet')\n",
    "from nltk.corpus import stopwords \n",
    "from nltk.tokenize import word_tokenize\n",
    "from nltk.stem import WordNetLemmatizer\n",
    "import random"
   ]
  },
  {
   "cell_type": "code",
   "execution_count": 562,
   "metadata": {
    "colab": {
     "base_uri": "https://localhost:8080/"
    },
    "id": "NuQi5Zv17cbe",
    "outputId": "6f6383b5-180c-4a6e-bb28-846f6cca407a"
   },
   "outputs": [
    {
     "name": "stdout",
     "output_type": "stream",
     "text": [
      "Requirement already satisfied: colorama in /usr/local/lib/python3.7/dist-packages (0.4.4)\n"
     ]
    }
   ],
   "source": [
    "pip install colorama"
   ]
  },
  {
   "cell_type": "code",
   "execution_count": 563,
   "metadata": {
    "id": "zcp1lJgI6Tz_"
   },
   "outputs": [],
   "source": [
    "with open('/content/gdrive/MyDrive/Project/GL Bot.json') as f:\n",
    "    final = json.load(f)"
   ]
  },
  {
   "cell_type": "code",
   "execution_count": 564,
   "metadata": {
    "id": "BvV2Xm3P6W6g"
   },
   "outputs": [],
   "source": [
    "for intent in final['intents']:\n",
    "    if intent['tag'] == 'Intro':\n",
    "        intent['patterns'].extend(('Good Morning', 'Good evening', 'Good afternoon','please'))\n",
    "    if intent['tag'] == 'Exit':\n",
    "        intent['patterns'].extend(('Appreciated','Resolved','Solved','Goodbye','Good bye','bye','it was nice talking to you','Welcome'))\n",
    "    if intent['tag'] == 'SL':\n",
    "        intent['patterns'].extend(('Tuning','Model tuning'))\n",
    "    if intent['tag'] == 'Profane':\n",
    "        intent['patterns'].extend(('idiot','shitty','fuck'))\n",
    "    if intent['tag'] == 'NN':\n",
    "        intent['patterns'].extend(('What are neural network used for ?','3 components of neural network','NN','CNN','ANN'))\n",
    "    if intent['tag'] == 'Bot':\n",
    "        intent['patterns'].extend(('What are you','what is this','what'))\n",
    "    if intent['tag'] == 'Ticket':\n",
    "        intent['patterns'].extend(('Notes','Program manager','PM','Unable to login','Support Request','how to Raise a support request'))"
   ]
  },
  {
   "cell_type": "code",
   "execution_count": 565,
   "metadata": {
    "id": "pVT3vTWc6dJ-"
   },
   "outputs": [],
   "source": [
    "with open('/content/gdrive/MyDrive/Project/Modified_jsonfile.json', 'w') as json_file:\n",
    "    json.dump(final, json_file)"
   ]
  },
  {
   "cell_type": "code",
   "execution_count": 566,
   "metadata": {
    "id": "8KBORQvc6ftz"
   },
   "outputs": [],
   "source": [
    "with open('/content/gdrive/MyDrive/Project/Modified_jsonfile.json') as f:\n",
    "    data = pd.read_json(f)"
   ]
  },
  {
   "cell_type": "code",
   "execution_count": 567,
   "metadata": {
    "id": "AV086QNC6iov"
   },
   "outputs": [],
   "source": [
    "labels = []\n",
    "words=[]\n",
    "documents = []\n",
    "ignore_words = ['?', '!']\n",
    "\n",
    "for intent in data['intents']:\n",
    "    for pattern in intent['patterns']:\n",
    "        w = nltk.word_tokenize(pattern)\n",
    "        words.extend(w)\n",
    "        documents.append((w, intent['tag']))\n",
    "        if intent['tag'] not in labels:  \n",
    "            labels.append(intent['tag'])     \n",
    "num_classes = len(labels)"
   ]
  },
  {
   "cell_type": "code",
   "execution_count": 568,
   "metadata": {
    "id": "5eFdZJbw6rMD"
   },
   "outputs": [],
   "source": [
    "lemmatizer = WordNetLemmatizer()\n",
    "words = [lemmatizer.lemmatize(w.lower()) for w in words if w not in ignore_words]\n",
    "words = sorted(list(set(words)))\n",
    "labels = sorted(list(set(labels)))"
   ]
  },
  {
   "cell_type": "code",
   "execution_count": 569,
   "metadata": {
    "id": "2PshBAax6tAb"
   },
   "outputs": [],
   "source": [
    "# initializing training data\n",
    "sentences = []\n",
    "output_empty = [0] * len(labels)\n",
    "for doc in documents:\n",
    "\n",
    "    bag = []\n",
    "    pattern_words = doc[0]\n",
    "\n",
    "    pattern_words = [lemmatizer.lemmatize(word.lower()) for word in pattern_words]\n",
    "\n",
    "    for w in words:\n",
    "        bag.append(1) if w in pattern_words else bag.append(0)\n",
    "    output_row = list(output_empty)\n",
    "    output_row[labels.index(doc[1])] = 1\n",
    "    sentences.append([bag, output_row])\n",
    "\n",
    "random.shuffle(sentences)\n",
    "sentences = np.array(sentences)\n",
    "\n",
    "# create train and test split\n",
    "X = list(sentences[:,0])\n",
    "y = list(sentences[:,1])"
   ]
  },
  {
   "cell_type": "code",
   "execution_count": 570,
   "metadata": {
    "colab": {
     "base_uri": "https://localhost:8080/"
    },
    "id": "UotOWZ0J7Bi4",
    "outputId": "eedf053f-9e2b-4820-a156-3e5e8f0feb62"
   },
   "outputs": [
    {
     "name": "stdout",
     "output_type": "stream",
     "text": [
      "Model: \"sequential_3\"\n",
      "_________________________________________________________________\n",
      "Layer (type)                 Output Shape              Param #   \n",
      "=================================================================\n",
      "dense_12 (Dense)             (None, 50)                9350      \n",
      "_________________________________________________________________\n",
      "dropout_3 (Dropout)          (None, 50)                0         \n",
      "_________________________________________________________________\n",
      "dense_13 (Dense)             (None, 16)                816       \n",
      "_________________________________________________________________\n",
      "dense_14 (Dense)             (None, 16)                272       \n",
      "_________________________________________________________________\n",
      "dense_15 (Dense)             (None, 8)                 136       \n",
      "=================================================================\n",
      "Total params: 10,574\n",
      "Trainable params: 10,574\n",
      "Non-trainable params: 0\n",
      "_________________________________________________________________\n"
     ]
    }
   ],
   "source": [
    "model = Sequential()\n",
    "model.add(Dense(50, input_shape=(len(X[0]),), activation='relu'))\n",
    "model.add(Dropout(0.5))\n",
    "model.add(Dense(16, activation='relu'))\n",
    "model.add(Dense(16, activation='relu'))\n",
    "model.add(Dense(num_classes, activation='softmax'))\n",
    "\n",
    "model.compile(loss='categorical_crossentropy', optimizer='adam', metrics=['accuracy'])\n",
    "model.summary()"
   ]
  },
  {
   "cell_type": "code",
   "execution_count": 571,
   "metadata": {
    "colab": {
     "base_uri": "https://localhost:8080/"
    },
    "id": "xJrXjnI37FNk",
    "outputId": "baaaf60b-33d2-47b1-8e07-793c3c77df8c"
   },
   "outputs": [
    {
     "name": "stdout",
     "output_type": "stream",
     "text": [
      "Epoch 1/250\n",
      "40/40 [==============================] - 1s 3ms/step - loss: 2.0763 - accuracy: 0.1824\n",
      "Epoch 2/250\n",
      "40/40 [==============================] - 0s 4ms/step - loss: 2.0490 - accuracy: 0.1887\n",
      "Epoch 3/250\n",
      "40/40 [==============================] - 0s 3ms/step - loss: 2.0184 - accuracy: 0.2264\n",
      "Epoch 4/250\n",
      "40/40 [==============================] - 0s 3ms/step - loss: 1.9722 - accuracy: 0.2704\n",
      "Epoch 5/250\n",
      "40/40 [==============================] - 0s 4ms/step - loss: 1.9516 - accuracy: 0.2893\n",
      "Epoch 6/250\n",
      "40/40 [==============================] - 0s 3ms/step - loss: 1.8996 - accuracy: 0.2516\n",
      "Epoch 7/250\n",
      "40/40 [==============================] - 0s 4ms/step - loss: 1.8490 - accuracy: 0.2956\n",
      "Epoch 8/250\n",
      "40/40 [==============================] - 0s 3ms/step - loss: 1.7772 - accuracy: 0.3208\n",
      "Epoch 9/250\n",
      "40/40 [==============================] - 0s 4ms/step - loss: 1.7075 - accuracy: 0.4214\n",
      "Epoch 10/250\n",
      "40/40 [==============================] - 0s 3ms/step - loss: 1.6109 - accuracy: 0.4277\n",
      "Epoch 11/250\n",
      "40/40 [==============================] - 0s 3ms/step - loss: 1.5292 - accuracy: 0.5031\n",
      "Epoch 12/250\n",
      "40/40 [==============================] - 0s 4ms/step - loss: 1.4376 - accuracy: 0.5409\n",
      "Epoch 13/250\n",
      "40/40 [==============================] - 0s 3ms/step - loss: 1.3419 - accuracy: 0.5786\n",
      "Epoch 14/250\n",
      "40/40 [==============================] - 0s 3ms/step - loss: 1.2432 - accuracy: 0.5912\n",
      "Epoch 15/250\n",
      "40/40 [==============================] - 0s 3ms/step - loss: 1.1139 - accuracy: 0.6226\n",
      "Epoch 16/250\n",
      "40/40 [==============================] - 0s 4ms/step - loss: 0.9969 - accuracy: 0.7233\n",
      "Epoch 17/250\n",
      "40/40 [==============================] - 0s 4ms/step - loss: 0.9177 - accuracy: 0.7107\n",
      "Epoch 18/250\n",
      "40/40 [==============================] - 0s 3ms/step - loss: 0.8256 - accuracy: 0.7673\n",
      "Epoch 19/250\n",
      "40/40 [==============================] - 0s 3ms/step - loss: 0.8031 - accuracy: 0.7547\n",
      "Epoch 20/250\n",
      "40/40 [==============================] - 0s 3ms/step - loss: 0.6754 - accuracy: 0.8491\n",
      "Epoch 21/250\n",
      "40/40 [==============================] - 0s 3ms/step - loss: 0.6233 - accuracy: 0.8050\n",
      "Epoch 22/250\n",
      "40/40 [==============================] - 0s 3ms/step - loss: 0.5592 - accuracy: 0.8553\n",
      "Epoch 23/250\n",
      "40/40 [==============================] - 0s 3ms/step - loss: 0.4972 - accuracy: 0.8616\n",
      "Epoch 24/250\n",
      "40/40 [==============================] - 0s 4ms/step - loss: 0.4680 - accuracy: 0.8742\n",
      "Epoch 25/250\n",
      "40/40 [==============================] - 0s 4ms/step - loss: 0.4490 - accuracy: 0.8679\n",
      "Epoch 26/250\n",
      "40/40 [==============================] - 0s 4ms/step - loss: 0.3723 - accuracy: 0.9245\n",
      "Epoch 27/250\n",
      "40/40 [==============================] - 0s 4ms/step - loss: 0.3491 - accuracy: 0.9057\n",
      "Epoch 28/250\n",
      "40/40 [==============================] - 0s 3ms/step - loss: 0.3046 - accuracy: 0.9434\n",
      "Epoch 29/250\n",
      "40/40 [==============================] - 0s 4ms/step - loss: 0.2862 - accuracy: 0.9371\n",
      "Epoch 30/250\n",
      "40/40 [==============================] - 0s 3ms/step - loss: 0.2184 - accuracy: 0.9874\n",
      "Epoch 31/250\n",
      "40/40 [==============================] - 0s 4ms/step - loss: 0.2501 - accuracy: 0.9434\n",
      "Epoch 32/250\n",
      "40/40 [==============================] - 0s 3ms/step - loss: 0.2509 - accuracy: 0.9245\n",
      "Epoch 33/250\n",
      "40/40 [==============================] - 0s 4ms/step - loss: 0.2807 - accuracy: 0.8994\n",
      "Epoch 34/250\n",
      "40/40 [==============================] - 0s 2ms/step - loss: 0.2601 - accuracy: 0.9182\n",
      "Epoch 35/250\n",
      "40/40 [==============================] - 0s 4ms/step - loss: 0.2250 - accuracy: 0.9623\n",
      "Epoch 36/250\n",
      "40/40 [==============================] - 0s 3ms/step - loss: 0.2144 - accuracy: 0.9497\n",
      "Epoch 37/250\n",
      "40/40 [==============================] - 0s 4ms/step - loss: 0.1606 - accuracy: 0.9560\n",
      "Epoch 38/250\n",
      "40/40 [==============================] - 0s 4ms/step - loss: 0.1740 - accuracy: 0.9560\n",
      "Epoch 39/250\n",
      "40/40 [==============================] - 0s 4ms/step - loss: 0.1467 - accuracy: 0.9686\n",
      "Epoch 40/250\n",
      "40/40 [==============================] - 0s 3ms/step - loss: 0.1492 - accuracy: 0.9686\n",
      "Epoch 41/250\n",
      "40/40 [==============================] - 0s 4ms/step - loss: 0.1500 - accuracy: 0.9748\n",
      "Epoch 42/250\n",
      "40/40 [==============================] - 0s 4ms/step - loss: 0.1184 - accuracy: 0.9874\n",
      "Epoch 43/250\n",
      "40/40 [==============================] - 0s 3ms/step - loss: 0.1200 - accuracy: 0.9748\n",
      "Epoch 44/250\n",
      "40/40 [==============================] - 0s 4ms/step - loss: 0.1172 - accuracy: 0.9748\n",
      "Epoch 45/250\n",
      "40/40 [==============================] - 0s 3ms/step - loss: 0.1070 - accuracy: 0.9686\n",
      "Epoch 46/250\n",
      "40/40 [==============================] - 0s 3ms/step - loss: 0.1057 - accuracy: 0.9748\n",
      "Epoch 47/250\n",
      "40/40 [==============================] - 0s 4ms/step - loss: 0.1158 - accuracy: 0.9811\n",
      "Epoch 48/250\n",
      "40/40 [==============================] - 0s 4ms/step - loss: 0.0713 - accuracy: 0.9874\n",
      "Epoch 49/250\n",
      "40/40 [==============================] - 0s 4ms/step - loss: 0.1188 - accuracy: 0.9623\n",
      "Epoch 50/250\n",
      "40/40 [==============================] - 0s 3ms/step - loss: 0.1025 - accuracy: 0.9748\n",
      "Epoch 51/250\n",
      "40/40 [==============================] - 0s 3ms/step - loss: 0.0692 - accuracy: 0.9874\n",
      "Epoch 52/250\n",
      "40/40 [==============================] - 0s 3ms/step - loss: 0.0929 - accuracy: 0.9937\n",
      "Epoch 53/250\n",
      "40/40 [==============================] - 0s 4ms/step - loss: 0.0900 - accuracy: 0.9686\n",
      "Epoch 54/250\n",
      "40/40 [==============================] - 0s 3ms/step - loss: 0.0776 - accuracy: 0.9811\n",
      "Epoch 55/250\n",
      "40/40 [==============================] - 0s 4ms/step - loss: 0.1240 - accuracy: 0.9623\n",
      "Epoch 56/250\n",
      "40/40 [==============================] - 0s 4ms/step - loss: 0.1017 - accuracy: 0.9623\n",
      "Epoch 57/250\n",
      "40/40 [==============================] - 0s 4ms/step - loss: 0.0798 - accuracy: 0.9811\n",
      "Epoch 58/250\n",
      "40/40 [==============================] - 0s 3ms/step - loss: 0.0910 - accuracy: 0.9748\n",
      "Epoch 59/250\n",
      "40/40 [==============================] - 0s 4ms/step - loss: 0.0421 - accuracy: 1.0000\n",
      "Epoch 60/250\n",
      "40/40 [==============================] - 0s 4ms/step - loss: 0.0683 - accuracy: 0.9937\n",
      "Epoch 61/250\n",
      "40/40 [==============================] - 0s 4ms/step - loss: 0.0607 - accuracy: 0.9874\n",
      "Epoch 62/250\n",
      "40/40 [==============================] - 0s 4ms/step - loss: 0.0714 - accuracy: 0.9874\n",
      "Epoch 63/250\n",
      "40/40 [==============================] - 0s 4ms/step - loss: 0.0751 - accuracy: 0.9811\n",
      "Epoch 64/250\n",
      "40/40 [==============================] - 0s 3ms/step - loss: 0.0498 - accuracy: 0.9874\n",
      "Epoch 65/250\n",
      "40/40 [==============================] - 0s 3ms/step - loss: 0.0618 - accuracy: 0.9874\n",
      "Epoch 66/250\n",
      "40/40 [==============================] - 0s 3ms/step - loss: 0.0692 - accuracy: 0.9937\n",
      "Epoch 67/250\n",
      "40/40 [==============================] - 0s 4ms/step - loss: 0.0625 - accuracy: 0.9874\n",
      "Epoch 68/250\n",
      "40/40 [==============================] - 0s 4ms/step - loss: 0.0455 - accuracy: 0.9937\n",
      "Epoch 69/250\n",
      "40/40 [==============================] - 0s 3ms/step - loss: 0.0341 - accuracy: 0.9937\n",
      "Epoch 70/250\n",
      "40/40 [==============================] - 0s 3ms/step - loss: 0.0247 - accuracy: 1.0000\n",
      "Epoch 71/250\n",
      "40/40 [==============================] - 0s 4ms/step - loss: 0.0434 - accuracy: 0.9937\n",
      "Epoch 72/250\n",
      "40/40 [==============================] - 0s 4ms/step - loss: 0.0626 - accuracy: 0.9811\n",
      "Epoch 73/250\n",
      "40/40 [==============================] - 0s 3ms/step - loss: 0.0364 - accuracy: 0.9937\n",
      "Epoch 74/250\n",
      "40/40 [==============================] - 0s 3ms/step - loss: 0.0402 - accuracy: 0.9937\n",
      "Epoch 75/250\n",
      "40/40 [==============================] - 0s 3ms/step - loss: 0.0405 - accuracy: 0.9874\n",
      "Epoch 76/250\n",
      "40/40 [==============================] - 0s 4ms/step - loss: 0.0459 - accuracy: 0.9937\n",
      "Epoch 77/250\n",
      "40/40 [==============================] - 0s 3ms/step - loss: 0.0617 - accuracy: 0.9811\n",
      "Epoch 78/250\n",
      "40/40 [==============================] - 0s 4ms/step - loss: 0.0544 - accuracy: 0.9748\n",
      "Epoch 79/250\n",
      "40/40 [==============================] - 0s 4ms/step - loss: 0.0326 - accuracy: 1.0000\n",
      "Epoch 80/250\n",
      "40/40 [==============================] - 0s 4ms/step - loss: 0.0492 - accuracy: 0.9811\n",
      "Epoch 81/250\n",
      "40/40 [==============================] - 0s 3ms/step - loss: 0.0448 - accuracy: 0.9937\n",
      "Epoch 82/250\n",
      "40/40 [==============================] - 0s 5ms/step - loss: 0.0530 - accuracy: 0.9874\n",
      "Epoch 83/250\n",
      "40/40 [==============================] - 0s 4ms/step - loss: 0.0270 - accuracy: 0.9937\n",
      "Epoch 84/250\n",
      "40/40 [==============================] - 0s 4ms/step - loss: 0.0251 - accuracy: 1.0000\n",
      "Epoch 85/250\n",
      "40/40 [==============================] - 0s 4ms/step - loss: 0.0417 - accuracy: 0.9937\n",
      "Epoch 86/250\n",
      "40/40 [==============================] - 0s 3ms/step - loss: 0.0422 - accuracy: 0.9937\n",
      "Epoch 87/250\n",
      "40/40 [==============================] - 0s 4ms/step - loss: 0.0281 - accuracy: 1.0000\n",
      "Epoch 88/250\n",
      "40/40 [==============================] - 0s 4ms/step - loss: 0.0553 - accuracy: 0.9811\n",
      "Epoch 89/250\n",
      "40/40 [==============================] - 0s 4ms/step - loss: 0.0242 - accuracy: 0.9937\n",
      "Epoch 90/250\n",
      "40/40 [==============================] - 0s 4ms/step - loss: 0.0356 - accuracy: 1.0000\n",
      "Epoch 91/250\n",
      "40/40 [==============================] - 0s 4ms/step - loss: 0.0255 - accuracy: 0.9937\n",
      "Epoch 92/250\n",
      "40/40 [==============================] - 0s 3ms/step - loss: 0.0327 - accuracy: 0.9937\n",
      "Epoch 93/250\n",
      "40/40 [==============================] - 0s 4ms/step - loss: 0.0873 - accuracy: 0.9686\n",
      "Epoch 94/250\n",
      "40/40 [==============================] - 0s 3ms/step - loss: 0.0459 - accuracy: 0.9874\n",
      "Epoch 95/250\n",
      "40/40 [==============================] - 0s 4ms/step - loss: 0.0401 - accuracy: 0.9874\n",
      "Epoch 96/250\n",
      "40/40 [==============================] - 0s 4ms/step - loss: 0.0169 - accuracy: 0.9937\n",
      "Epoch 97/250\n",
      "40/40 [==============================] - 0s 3ms/step - loss: 0.0364 - accuracy: 0.9937\n",
      "Epoch 98/250\n",
      "40/40 [==============================] - 0s 4ms/step - loss: 0.0267 - accuracy: 0.9937\n",
      "Epoch 99/250\n",
      "40/40 [==============================] - 0s 3ms/step - loss: 0.0531 - accuracy: 0.9874\n",
      "Epoch 100/250\n",
      "40/40 [==============================] - 0s 4ms/step - loss: 0.0281 - accuracy: 0.9937\n",
      "Epoch 101/250\n",
      "40/40 [==============================] - 0s 3ms/step - loss: 0.0277 - accuracy: 0.9937\n",
      "Epoch 102/250\n",
      "40/40 [==============================] - 0s 3ms/step - loss: 0.0261 - accuracy: 0.9937\n",
      "Epoch 103/250\n",
      "40/40 [==============================] - 0s 3ms/step - loss: 0.0252 - accuracy: 1.0000\n",
      "Epoch 104/250\n",
      "40/40 [==============================] - 0s 3ms/step - loss: 0.0346 - accuracy: 0.9874\n",
      "Epoch 105/250\n",
      "40/40 [==============================] - 0s 4ms/step - loss: 0.0261 - accuracy: 0.9937\n",
      "Epoch 106/250\n",
      "40/40 [==============================] - 0s 3ms/step - loss: 0.0190 - accuracy: 1.0000\n",
      "Epoch 107/250\n",
      "40/40 [==============================] - 0s 5ms/step - loss: 0.0293 - accuracy: 0.9937\n",
      "Epoch 108/250\n",
      "40/40 [==============================] - 0s 4ms/step - loss: 0.0309 - accuracy: 0.9874\n",
      "Epoch 109/250\n",
      "40/40 [==============================] - 0s 4ms/step - loss: 0.0230 - accuracy: 0.9937\n",
      "Epoch 110/250\n",
      "40/40 [==============================] - 0s 2ms/step - loss: 0.0077 - accuracy: 1.0000\n",
      "Epoch 111/250\n",
      "40/40 [==============================] - 0s 4ms/step - loss: 0.0213 - accuracy: 1.0000\n",
      "Epoch 112/250\n",
      "40/40 [==============================] - 0s 4ms/step - loss: 0.0188 - accuracy: 1.0000\n",
      "Epoch 113/250\n",
      "40/40 [==============================] - 0s 3ms/step - loss: 0.0390 - accuracy: 0.9811\n",
      "Epoch 114/250\n",
      "40/40 [==============================] - 0s 4ms/step - loss: 0.0201 - accuracy: 0.9937\n",
      "Epoch 115/250\n",
      "40/40 [==============================] - 0s 4ms/step - loss: 0.0561 - accuracy: 0.9748\n",
      "Epoch 116/250\n",
      "40/40 [==============================] - 0s 4ms/step - loss: 0.0586 - accuracy: 0.9811\n",
      "Epoch 117/250\n",
      "40/40 [==============================] - 0s 5ms/step - loss: 0.0154 - accuracy: 0.9937\n",
      "Epoch 118/250\n",
      "40/40 [==============================] - 0s 4ms/step - loss: 0.0581 - accuracy: 0.9811\n",
      "Epoch 119/250\n",
      "40/40 [==============================] - 0s 3ms/step - loss: 0.0128 - accuracy: 1.0000\n",
      "Epoch 120/250\n",
      "40/40 [==============================] - 0s 4ms/step - loss: 0.0194 - accuracy: 1.0000\n",
      "Epoch 121/250\n",
      "40/40 [==============================] - 0s 3ms/step - loss: 0.0222 - accuracy: 0.9937\n",
      "Epoch 122/250\n",
      "40/40 [==============================] - 0s 3ms/step - loss: 0.0198 - accuracy: 1.0000\n",
      "Epoch 123/250\n",
      "40/40 [==============================] - 0s 3ms/step - loss: 0.0136 - accuracy: 0.9937\n",
      "Epoch 124/250\n",
      "40/40 [==============================] - 0s 4ms/step - loss: 0.0177 - accuracy: 0.9937\n",
      "Epoch 125/250\n",
      "40/40 [==============================] - 0s 4ms/step - loss: 0.0165 - accuracy: 0.9937\n",
      "Epoch 126/250\n",
      "40/40 [==============================] - 0s 4ms/step - loss: 0.0359 - accuracy: 0.9874\n",
      "Epoch 127/250\n",
      "40/40 [==============================] - 0s 3ms/step - loss: 0.0197 - accuracy: 0.9937\n",
      "Epoch 128/250\n",
      "40/40 [==============================] - 0s 5ms/step - loss: 0.0342 - accuracy: 0.9937\n",
      "Epoch 129/250\n",
      "40/40 [==============================] - 0s 5ms/step - loss: 0.0292 - accuracy: 0.9937\n",
      "Epoch 130/250\n",
      "40/40 [==============================] - 0s 4ms/step - loss: 0.0152 - accuracy: 0.9937\n",
      "Epoch 131/250\n",
      "40/40 [==============================] - 0s 4ms/step - loss: 0.0292 - accuracy: 0.9937\n",
      "Epoch 132/250\n",
      "40/40 [==============================] - 0s 4ms/step - loss: 0.0285 - accuracy: 0.9874\n",
      "Epoch 133/250\n",
      "40/40 [==============================] - 0s 2ms/step - loss: 0.0283 - accuracy: 0.9937\n",
      "Epoch 134/250\n",
      "40/40 [==============================] - 0s 4ms/step - loss: 0.0169 - accuracy: 1.0000\n",
      "Epoch 135/250\n",
      "40/40 [==============================] - 0s 4ms/step - loss: 0.0160 - accuracy: 0.9937\n",
      "Epoch 136/250\n",
      "40/40 [==============================] - 0s 3ms/step - loss: 0.0175 - accuracy: 0.9937\n",
      "Epoch 137/250\n",
      "40/40 [==============================] - 0s 3ms/step - loss: 0.0114 - accuracy: 0.9937\n",
      "Epoch 138/250\n",
      "40/40 [==============================] - 0s 4ms/step - loss: 0.0206 - accuracy: 0.9937\n",
      "Epoch 139/250\n",
      "40/40 [==============================] - 0s 4ms/step - loss: 0.0189 - accuracy: 1.0000\n",
      "Epoch 140/250\n",
      "40/40 [==============================] - 0s 4ms/step - loss: 0.0424 - accuracy: 0.9874\n",
      "Epoch 141/250\n",
      "40/40 [==============================] - 0s 3ms/step - loss: 0.0096 - accuracy: 1.0000\n",
      "Epoch 142/250\n",
      "40/40 [==============================] - 0s 4ms/step - loss: 0.0095 - accuracy: 1.0000\n",
      "Epoch 143/250\n",
      "40/40 [==============================] - 0s 5ms/step - loss: 0.0240 - accuracy: 0.9937\n",
      "Epoch 144/250\n",
      "40/40 [==============================] - 0s 4ms/step - loss: 0.0118 - accuracy: 1.0000\n",
      "Epoch 145/250\n",
      "40/40 [==============================] - 0s 4ms/step - loss: 0.0072 - accuracy: 1.0000\n",
      "Epoch 146/250\n",
      "40/40 [==============================] - 0s 4ms/step - loss: 0.0298 - accuracy: 0.9937\n",
      "Epoch 147/250\n",
      "40/40 [==============================] - 0s 3ms/step - loss: 0.0154 - accuracy: 0.9937\n",
      "Epoch 148/250\n",
      "40/40 [==============================] - 0s 3ms/step - loss: 0.0161 - accuracy: 0.9937\n",
      "Epoch 149/250\n",
      "40/40 [==============================] - 0s 3ms/step - loss: 0.0139 - accuracy: 1.0000\n",
      "Epoch 150/250\n",
      "40/40 [==============================] - 0s 3ms/step - loss: 0.0023 - accuracy: 1.0000\n",
      "Epoch 151/250\n",
      "40/40 [==============================] - 0s 4ms/step - loss: 0.0116 - accuracy: 1.0000\n",
      "Epoch 152/250\n",
      "40/40 [==============================] - 0s 4ms/step - loss: 0.0211 - accuracy: 1.0000\n",
      "Epoch 153/250\n",
      "40/40 [==============================] - 0s 3ms/step - loss: 0.0136 - accuracy: 0.9937\n",
      "Epoch 154/250\n",
      "40/40 [==============================] - 0s 4ms/step - loss: 0.0095 - accuracy: 1.0000\n",
      "Epoch 155/250\n",
      "40/40 [==============================] - 0s 4ms/step - loss: 0.0432 - accuracy: 0.9874\n",
      "Epoch 156/250\n",
      "40/40 [==============================] - 0s 4ms/step - loss: 0.0161 - accuracy: 1.0000\n",
      "Epoch 157/250\n",
      "40/40 [==============================] - 0s 4ms/step - loss: 0.0075 - accuracy: 1.0000\n",
      "Epoch 158/250\n",
      "40/40 [==============================] - 0s 4ms/step - loss: 0.0149 - accuracy: 0.9937\n",
      "Epoch 159/250\n",
      "40/40 [==============================] - 0s 3ms/step - loss: 0.0132 - accuracy: 1.0000\n",
      "Epoch 160/250\n",
      "40/40 [==============================] - 0s 3ms/step - loss: 0.0128 - accuracy: 1.0000\n",
      "Epoch 161/250\n",
      "40/40 [==============================] - 0s 4ms/step - loss: 0.0143 - accuracy: 1.0000\n",
      "Epoch 162/250\n",
      "40/40 [==============================] - 0s 4ms/step - loss: 0.0027 - accuracy: 1.0000\n",
      "Epoch 163/250\n",
      "40/40 [==============================] - 0s 2ms/step - loss: 0.0061 - accuracy: 1.0000\n",
      "Epoch 164/250\n",
      "40/40 [==============================] - 0s 3ms/step - loss: 0.0062 - accuracy: 1.0000\n",
      "Epoch 165/250\n",
      "40/40 [==============================] - 0s 3ms/step - loss: 0.0071 - accuracy: 1.0000\n",
      "Epoch 166/250\n",
      "40/40 [==============================] - 0s 4ms/step - loss: 0.0301 - accuracy: 0.9874\n",
      "Epoch 167/250\n",
      "40/40 [==============================] - 0s 3ms/step - loss: 0.0079 - accuracy: 1.0000\n",
      "Epoch 168/250\n",
      "40/40 [==============================] - 0s 4ms/step - loss: 0.0096 - accuracy: 1.0000\n",
      "Epoch 169/250\n",
      "40/40 [==============================] - 0s 4ms/step - loss: 0.0098 - accuracy: 1.0000\n",
      "Epoch 170/250\n",
      "40/40 [==============================] - 0s 4ms/step - loss: 0.0065 - accuracy: 1.0000\n",
      "Epoch 171/250\n",
      "40/40 [==============================] - 0s 3ms/step - loss: 0.0055 - accuracy: 1.0000\n",
      "Epoch 172/250\n",
      "40/40 [==============================] - 0s 3ms/step - loss: 0.0155 - accuracy: 1.0000\n",
      "Epoch 173/250\n",
      "40/40 [==============================] - 0s 3ms/step - loss: 0.0223 - accuracy: 0.9937\n",
      "Epoch 174/250\n",
      "40/40 [==============================] - 0s 4ms/step - loss: 0.0506 - accuracy: 0.9748\n",
      "Epoch 175/250\n",
      "40/40 [==============================] - 0s 4ms/step - loss: 0.0113 - accuracy: 1.0000\n",
      "Epoch 176/250\n",
      "40/40 [==============================] - 0s 2ms/step - loss: 0.0035 - accuracy: 1.0000\n",
      "Epoch 177/250\n",
      "40/40 [==============================] - 0s 4ms/step - loss: 0.0218 - accuracy: 0.9937\n",
      "Epoch 178/250\n",
      "40/40 [==============================] - 0s 4ms/step - loss: 0.0106 - accuracy: 1.0000\n",
      "Epoch 179/250\n",
      "40/40 [==============================] - 0s 5ms/step - loss: 0.0103 - accuracy: 1.0000\n",
      "Epoch 180/250\n",
      "40/40 [==============================] - 0s 3ms/step - loss: 0.0042 - accuracy: 1.0000\n",
      "Epoch 181/250\n",
      "40/40 [==============================] - 0s 5ms/step - loss: 0.0137 - accuracy: 1.0000\n",
      "Epoch 182/250\n",
      "40/40 [==============================] - 0s 4ms/step - loss: 0.0205 - accuracy: 0.9937\n",
      "Epoch 183/250\n",
      "40/40 [==============================] - 0s 4ms/step - loss: 0.0084 - accuracy: 1.0000\n",
      "Epoch 184/250\n",
      "40/40 [==============================] - 0s 4ms/step - loss: 0.0061 - accuracy: 1.0000\n",
      "Epoch 185/250\n",
      "40/40 [==============================] - 0s 4ms/step - loss: 0.0160 - accuracy: 1.0000\n",
      "Epoch 186/250\n",
      "40/40 [==============================] - 0s 4ms/step - loss: 0.0285 - accuracy: 0.9811\n",
      "Epoch 187/250\n",
      "40/40 [==============================] - 0s 4ms/step - loss: 0.0053 - accuracy: 1.0000\n",
      "Epoch 188/250\n",
      "40/40 [==============================] - 0s 4ms/step - loss: 0.0092 - accuracy: 1.0000\n",
      "Epoch 189/250\n",
      "40/40 [==============================] - 0s 3ms/step - loss: 0.0047 - accuracy: 1.0000\n",
      "Epoch 190/250\n",
      "40/40 [==============================] - 0s 3ms/step - loss: 0.0282 - accuracy: 0.9874\n",
      "Epoch 191/250\n",
      "40/40 [==============================] - 0s 3ms/step - loss: 0.0691 - accuracy: 0.9811\n",
      "Epoch 192/250\n",
      "40/40 [==============================] - 0s 4ms/step - loss: 0.0089 - accuracy: 1.0000\n",
      "Epoch 193/250\n",
      "40/40 [==============================] - 0s 4ms/step - loss: 0.0146 - accuracy: 0.9937\n",
      "Epoch 194/250\n",
      "40/40 [==============================] - 0s 4ms/step - loss: 0.0012 - accuracy: 1.0000\n",
      "Epoch 195/250\n",
      "40/40 [==============================] - 0s 4ms/step - loss: 0.0052 - accuracy: 1.0000\n",
      "Epoch 196/250\n",
      "40/40 [==============================] - 0s 4ms/step - loss: 0.0058 - accuracy: 1.0000\n",
      "Epoch 197/250\n",
      "40/40 [==============================] - 0s 4ms/step - loss: 0.0126 - accuracy: 0.9937\n",
      "Epoch 198/250\n",
      "40/40 [==============================] - 0s 4ms/step - loss: 0.0081 - accuracy: 1.0000\n",
      "Epoch 199/250\n",
      "40/40 [==============================] - 0s 4ms/step - loss: 0.0017 - accuracy: 1.0000\n",
      "Epoch 200/250\n",
      "40/40 [==============================] - 0s 4ms/step - loss: 0.0161 - accuracy: 0.9874\n",
      "Epoch 201/250\n",
      "40/40 [==============================] - 0s 4ms/step - loss: 0.0132 - accuracy: 0.9937\n",
      "Epoch 202/250\n",
      "40/40 [==============================] - 0s 3ms/step - loss: 0.0086 - accuracy: 1.0000\n",
      "Epoch 203/250\n",
      "40/40 [==============================] - 0s 4ms/step - loss: 0.0115 - accuracy: 1.0000\n",
      "Epoch 204/250\n",
      "40/40 [==============================] - 0s 4ms/step - loss: 0.0046 - accuracy: 1.0000\n",
      "Epoch 205/250\n",
      "40/40 [==============================] - 0s 4ms/step - loss: 0.0284 - accuracy: 0.9874\n",
      "Epoch 206/250\n",
      "40/40 [==============================] - 0s 4ms/step - loss: 0.0330 - accuracy: 0.9937\n",
      "Epoch 207/250\n",
      "40/40 [==============================] - 0s 4ms/step - loss: 0.0163 - accuracy: 0.9937\n",
      "Epoch 208/250\n",
      "40/40 [==============================] - 0s 3ms/step - loss: 0.0159 - accuracy: 0.9937\n",
      "Epoch 209/250\n",
      "40/40 [==============================] - 0s 5ms/step - loss: 0.0140 - accuracy: 0.9937\n",
      "Epoch 210/250\n",
      "40/40 [==============================] - 0s 3ms/step - loss: 0.0130 - accuracy: 0.9937\n",
      "Epoch 211/250\n",
      "40/40 [==============================] - 0s 5ms/step - loss: 0.0041 - accuracy: 1.0000\n",
      "Epoch 212/250\n",
      "40/40 [==============================] - 0s 4ms/step - loss: 0.0029 - accuracy: 1.0000\n",
      "Epoch 213/250\n",
      "40/40 [==============================] - 0s 3ms/step - loss: 0.0058 - accuracy: 1.0000\n",
      "Epoch 214/250\n",
      "40/40 [==============================] - 0s 4ms/step - loss: 0.0043 - accuracy: 1.0000\n",
      "Epoch 215/250\n",
      "40/40 [==============================] - 0s 4ms/step - loss: 0.0155 - accuracy: 0.9937\n",
      "Epoch 216/250\n",
      "40/40 [==============================] - 0s 4ms/step - loss: 0.0088 - accuracy: 0.9937\n",
      "Epoch 217/250\n",
      "40/40 [==============================] - 0s 5ms/step - loss: 0.0072 - accuracy: 0.9937\n",
      "Epoch 218/250\n",
      "40/40 [==============================] - 0s 4ms/step - loss: 0.0059 - accuracy: 1.0000\n",
      "Epoch 219/250\n",
      "40/40 [==============================] - 0s 4ms/step - loss: 0.0056 - accuracy: 1.0000\n",
      "Epoch 220/250\n",
      "40/40 [==============================] - 0s 4ms/step - loss: 0.0128 - accuracy: 1.0000\n",
      "Epoch 221/250\n",
      "40/40 [==============================] - 0s 4ms/step - loss: 0.0262 - accuracy: 0.9937\n",
      "Epoch 222/250\n",
      "40/40 [==============================] - 0s 4ms/step - loss: 5.0774e-04 - accuracy: 1.0000\n",
      "Epoch 223/250\n",
      "40/40 [==============================] - 0s 3ms/step - loss: 0.0072 - accuracy: 1.0000\n",
      "Epoch 224/250\n",
      "40/40 [==============================] - 0s 4ms/step - loss: 0.0017 - accuracy: 1.0000\n",
      "Epoch 225/250\n",
      "40/40 [==============================] - 0s 4ms/step - loss: 0.0085 - accuracy: 0.9937\n",
      "Epoch 226/250\n",
      "40/40 [==============================] - 0s 5ms/step - loss: 0.0125 - accuracy: 0.9937\n",
      "Epoch 227/250\n",
      "40/40 [==============================] - 0s 3ms/step - loss: 0.0102 - accuracy: 1.0000\n",
      "Epoch 228/250\n",
      "40/40 [==============================] - 0s 4ms/step - loss: 0.0031 - accuracy: 1.0000\n",
      "Epoch 229/250\n",
      "40/40 [==============================] - 0s 4ms/step - loss: 0.0282 - accuracy: 0.9937\n",
      "Epoch 230/250\n",
      "40/40 [==============================] - 0s 3ms/step - loss: 0.0049 - accuracy: 1.0000\n",
      "Epoch 231/250\n",
      "40/40 [==============================] - 0s 4ms/step - loss: 0.0173 - accuracy: 0.9874\n",
      "Epoch 232/250\n",
      "40/40 [==============================] - 0s 4ms/step - loss: 0.0022 - accuracy: 1.0000\n",
      "Epoch 233/250\n",
      "40/40 [==============================] - 0s 4ms/step - loss: 0.0400 - accuracy: 0.9811\n",
      "Epoch 234/250\n",
      "40/40 [==============================] - 0s 3ms/step - loss: 0.0189 - accuracy: 0.9937\n",
      "Epoch 235/250\n",
      "40/40 [==============================] - 0s 4ms/step - loss: 0.0358 - accuracy: 0.9811\n",
      "Epoch 236/250\n",
      "40/40 [==============================] - 0s 4ms/step - loss: 0.0333 - accuracy: 0.9937\n",
      "Epoch 237/250\n",
      "40/40 [==============================] - 0s 4ms/step - loss: 0.0091 - accuracy: 1.0000\n",
      "Epoch 238/250\n",
      "40/40 [==============================] - 0s 5ms/step - loss: 0.0127 - accuracy: 1.0000\n",
      "Epoch 239/250\n",
      "40/40 [==============================] - 0s 4ms/step - loss: 0.0079 - accuracy: 0.9937\n",
      "Epoch 240/250\n",
      "40/40 [==============================] - 0s 3ms/step - loss: 0.0222 - accuracy: 0.9874\n",
      "Epoch 241/250\n",
      "40/40 [==============================] - 0s 4ms/step - loss: 0.0283 - accuracy: 0.9874\n",
      "Epoch 242/250\n",
      "40/40 [==============================] - 0s 3ms/step - loss: 0.0032 - accuracy: 1.0000\n",
      "Epoch 243/250\n",
      "40/40 [==============================] - 0s 4ms/step - loss: 0.0105 - accuracy: 1.0000\n",
      "Epoch 244/250\n",
      "40/40 [==============================] - 0s 3ms/step - loss: 0.0014 - accuracy: 1.0000\n",
      "Epoch 245/250\n",
      "40/40 [==============================] - 0s 4ms/step - loss: 0.0028 - accuracy: 1.0000\n",
      "Epoch 246/250\n",
      "40/40 [==============================] - 0s 3ms/step - loss: 0.0216 - accuracy: 0.9937\n",
      "Epoch 247/250\n",
      "40/40 [==============================] - 0s 5ms/step - loss: 0.0021 - accuracy: 1.0000\n",
      "Epoch 248/250\n",
      "40/40 [==============================] - 0s 4ms/step - loss: 0.0103 - accuracy: 0.9937\n",
      "Epoch 249/250\n",
      "40/40 [==============================] - 0s 5ms/step - loss: 0.0095 - accuracy: 0.9937\n",
      "Epoch 250/250\n",
      "40/40 [==============================] - 0s 3ms/step - loss: 0.0274 - accuracy: 0.9874\n"
     ]
    }
   ],
   "source": [
    "epochs = 250\n",
    "history = model.fit(np.array(X), np.array(y), epochs=epochs, batch_size = 4, verbose = 1)"
   ]
  },
  {
   "cell_type": "code",
   "execution_count": 572,
   "metadata": {
    "colab": {
     "base_uri": "https://localhost:8080/"
    },
    "id": "Q1oKqtGc7JzX",
    "outputId": "2b60b5f3-d788-44fe-e7bf-8e1c354d4272"
   },
   "outputs": [
    {
     "name": "stdout",
     "output_type": "stream",
     "text": [
      "INFO:tensorflow:Assets written to: /content/gdrive/My Drive/Project/chat_model/assets\n"
     ]
    }
   ],
   "source": [
    "# to save the trained model\n",
    "model.save(\"/content/gdrive/My Drive/Project/chat_model\")\n",
    "\n",
    "# to save the fitted tokenizer\n",
    "with open('words.pickle', 'wb') as handle:\n",
    "    pickle.dump(words, handle, protocol=pickle.HIGHEST_PROTOCOL)\n",
    "    \n",
    "# to save the fitted label encoder\n",
    "with open('labels.pickle', 'wb') as ecn_file:\n",
    "    pickle.dump(labels, ecn_file, protocol=pickle.HIGHEST_PROTOCOL)"
   ]
  },
  {
   "cell_type": "code",
   "execution_count": 573,
   "metadata": {
    "id": "0MW3zPZn80fY"
   },
   "outputs": [],
   "source": [
    "def chatbot_response(inp):\n",
    "    sentence_words = nltk.word_tokenize(inp)\n",
    "    sentence_words = [lemmatizer.lemmatize(word.lower()) for word in sentence_words]\n",
    "\n",
    "    bag = [0]*len(words)\n",
    "    for s in sentence_words:\n",
    "        for i,w in enumerate(words):\n",
    "            if w == s:\n",
    "                bag[i] = 1\n",
    "    bag =  np.array(bag)\n",
    "\n",
    "    result = model.predict(np.array([bag]))[0]\n",
    "    ERROR_THRESHOLD = 0.25\n",
    "    res = [[i,r] for i,r in enumerate(result) if r>ERROR_THRESHOLD]\n",
    "    res.sort(key=lambda x: x[1], reverse=True)\n",
    "    output_list = []\n",
    "    for r in res:\n",
    "    output_list.append({\"intent\": labels[r[0]], \"probability\": str(r[1])})\n",
    "\n",
    "    tag = output_list[0]['intent']\n",
    "    list_of_intents = data['intents']\n",
    "    for i in list_of_intents:\n",
    "    if(i['tag'] == tag):\n",
    "        result = random.choice(i['responses'])\n",
    "      # print(Fore.GREEN + \"ChatBot:\" + Style.RESET_ALL , np.random.choice(i['responses']))\n",
    "    return result"
   ]
  },
  {
   "cell_type": "code",
   "execution_count": 663,
   "metadata": {
    "colab": {
     "base_uri": "https://localhost:8080/"
    },
    "id": "yVO8pc_L7VzD",
    "outputId": "49e24855-289b-4462-a86d-8b352ef1df71"
   },
   "outputs": [
    {
     "name": "stdout",
     "output_type": "stream",
     "text": [
      "Start messaging with the bot (type quit to stop)!\n",
      "\n",
      "ChatBot: Hey There! How may I help you?\n",
      "User: Hey Good afternoon\n",
      "ChatBot: Hello! how can i help you ?\n",
      "\n",
      "User: I need help with supervised learning ..i cannot understand anything\n",
      "ChatBot: Link: Machine Learning wiki \n",
      "\n",
      "User: Also, need notes for NN\n",
      "ChatBot: Link: Neural Nets wiki\n",
      "\n",
      "User: How to raise support tickets ..i need extension\n",
      "ChatBot: Tarnsferring the request to your PM\n",
      "\n",
      "User: Oh..and where in Olympus can i raise ticket\n",
      "ChatBot: Link: Olympus wiki\n",
      "\n",
      "User: Oh okay..thank you!! Appreciated!!\n",
      "ChatBot: I hope I was able to assist you, Good Bye\n",
      "\n",
      "User: Quit\n"
     ]
    }
   ],
   "source": [
    "import colorama \n",
    "colorama.init()\n",
    "from colorama import Fore, Style, Back\n",
    "\n",
    "with open('/content/gdrive/MyDrive/Project/Modified_jsonfile.json') as file:\n",
    "    data = json.load(file)\n",
    "\n",
    "def chat():\n",
    "\n",
    "    model = keras.models.load_model('/content/gdrive/MyDrive/Project/chat_model')\n",
    "    ignore_words = ['?', '!']\n",
    "\n",
    "    with open('words.pickle', 'rb') as handle:\n",
    "        words = pickle.load(handle)\n",
    "\n",
    "    with open('labels.pickle', 'rb') as enc:\n",
    "        labels = pickle.load(enc)\n",
    "\n",
    "    print(Fore.LIGHTBLUE_EX + \"\\nChatBot: Hey There! How may I help you?\" + Style.RESET_ALL, end=\"\")\n",
    "    # print(\"\\nChatBot: Hey There! How may I help you?\")\n",
    "\n",
    "    while True:\n",
    "        \n",
    "        print(Fore.LIGHTBLUE_EX + \"\\nUser: \" + Style.RESET_ALL, end=\"\")\n",
    "        # print(\"\\nUser: \")\n",
    "\n",
    "        inp = input()\n",
    "        if inp.lower() == \"quit\":\n",
    "            break\n",
    "\n",
    "        sentence_words = nltk.word_tokenize(inp)\n",
    "        sentence_words = [lemmatizer.lemmatize(word.lower()) for word in sentence_words]\n",
    "\n",
    "        bag = [0]*len(words)\n",
    "        for s in sentence_words:\n",
    "            for i,w in enumerate(words):\n",
    "                if w == s:\n",
    "                    bag[i] = 1\n",
    "        bag =  np.array(bag)\n",
    "      \n",
    "        result = model.predict(np.array([bag]))[0]\n",
    "        ERROR_THRESHOLD = 0.25\n",
    "        res = [[i,r] for i,r in enumerate(result) if r>ERROR_THRESHOLD]\n",
    "        res.sort(key=lambda x: x[1], reverse=True)\n",
    "        output_list = []\n",
    "        for r in res:\n",
    "            output_list.append({\"intent\": labels[r[0]], \"probability\": str(r[1])})\n",
    "\n",
    "        tag = output_list[0]['intent']\n",
    "        list_of_intents = data['intents']\n",
    "        for i in list_of_intents:\n",
    "            if(i['tag'] == tag):\n",
    "                result = random.choice(i['responses'])\n",
    "                print(Fore.GREEN + \"ChatBot:\" + Style.RESET_ALL , np.random.choice(i['responses']))\n",
    "                # print(\"ChatBot:\", np.random.choice(i['responses']))\n",
    "print(Fore.YELLOW + \"Start messaging with the bot (type quit to stop)!\" + Style.RESET_ALL)\n",
    "# print(\"Start messaging with the bot (type quit to stop)!\")\n",
    "chat()"
   ]
  },
  {
   "cell_type": "code",
   "execution_count": 581,
   "metadata": {
    "colab": {
     "base_uri": "https://localhost:8080/",
     "height": 35
    },
    "id": "jAqp8qvo8fS4",
    "outputId": "43a1fbe3-6ee2-4ac4-9332-f18e89af7205"
   },
   "outputs": [
    {
     "data": {
      "application/vnd.google.colaboratory.intrinsic+json": {
       "type": "string"
      },
      "text/plain": [
       "'Link: Machine Learning wiki '"
      ]
     },
     "execution_count": 581,
     "metadata": {
      "tags": []
     },
     "output_type": "execute_result"
    }
   ],
   "source": [
    "chatbot_response('Cant understand NLP')"
   ]
  },
  {
   "cell_type": "code",
   "execution_count": 582,
   "metadata": {
    "colab": {
     "base_uri": "https://localhost:8080/",
     "height": 35
    },
    "id": "30UVcDpr9LKw",
    "outputId": "b7141c87-a73c-4941-da73-4b0ff24e91e8"
   },
   "outputs": [
    {
     "data": {
      "application/vnd.google.colaboratory.intrinsic+json": {
       "type": "string"
      },
      "text/plain": [
       "'Tarnsferring the request to your PM'"
      ]
     },
     "execution_count": 582,
     "metadata": {
      "tags": []
     },
     "output_type": "execute_result"
    }
   ],
   "source": [
    "chatbot_response('I am unable to login')"
   ]
  },
  {
   "cell_type": "code",
   "execution_count": 583,
   "metadata": {
    "colab": {
     "base_uri": "https://localhost:8080/",
     "height": 35
    },
    "id": "utdbQvpF93C1",
    "outputId": "387191fb-a437-4875-b658-6de902042202"
   },
   "outputs": [
    {
     "data": {
      "application/vnd.google.colaboratory.intrinsic+json": {
       "type": "string"
      },
      "text/plain": [
       "'Link: Olympus wiki'"
      ]
     },
     "execution_count": 583,
     "metadata": {
      "tags": []
     },
     "output_type": "execute_result"
    }
   ],
   "source": [
    "chatbot_response('Help with Olympus')"
   ]
  },
  {
   "cell_type": "code",
   "execution_count": 584,
   "metadata": {
    "colab": {
     "base_uri": "https://localhost:8080/",
     "height": 35
    },
    "id": "K7YILfqP_DsQ",
    "outputId": "5c387ccc-1e35-4774-f4f8-d61faf4a9a7c"
   },
   "outputs": [
    {
     "data": {
      "application/vnd.google.colaboratory.intrinsic+json": {
       "type": "string"
      },
      "text/plain": [
       "'Tarnsferring the request to your PM'"
      ]
     },
     "execution_count": 584,
     "metadata": {
      "tags": []
     },
     "output_type": "execute_result"
    }
   ],
   "source": [
    "chatbot_response('Support request')"
   ]
  }
 ],
 "metadata": {
  "colab": {
   "collapsed_sections": [],
   "name": "NLP_Final.ipynb",
   "provenance": []
  },
  "kernelspec": {
   "display_name": "Python 3",
   "language": "python",
   "name": "python3"
  },
  "language_info": {
   "codemirror_mode": {
    "name": "ipython",
    "version": 3
   },
   "file_extension": ".py",
   "mimetype": "text/x-python",
   "name": "python",
   "nbconvert_exporter": "python",
   "pygments_lexer": "ipython3",
   "version": "3.8.8"
  }
 },
 "nbformat": 4,
 "nbformat_minor": 1
}
